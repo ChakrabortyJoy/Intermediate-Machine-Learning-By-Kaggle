{
 "cells": [
  {
   "cell_type": "markdown",
   "id": "f8a5be70",
   "metadata": {
    "papermill": {
     "duration": 0.026403,
     "end_time": "2022-02-01T17:57:04.999400",
     "exception": false,
     "start_time": "2022-02-01T17:57:04.972997",
     "status": "completed"
    },
    "tags": []
   },
   "source": [
    "**This notebook is an exercise in the [Intermediate Machine Learning](https://www.kaggle.com/learn/intermediate-machine-learning) course.  You can reference the tutorial at [this link](https://www.kaggle.com/alexisbcook/categorical-variables).**\n",
    "\n",
    "---\n"
   ]
  },
  {
   "cell_type": "markdown",
   "id": "62a4a282",
   "metadata": {
    "papermill": {
     "duration": 0.024653,
     "end_time": "2022-02-01T17:57:05.048896",
     "exception": false,
     "start_time": "2022-02-01T17:57:05.024243",
     "status": "completed"
    },
    "tags": []
   },
   "source": [
    "By encoding **categorical variables**, you'll obtain your best results thus far!\n",
    "\n",
    "# Setup\n",
    "\n",
    "The questions below will give you feedback on your work. Run the following cell to set up the feedback system."
   ]
  },
  {
   "cell_type": "code",
   "execution_count": 1,
   "id": "90f9c2e9",
   "metadata": {
    "execution": {
     "iopub.execute_input": "2022-02-01T17:57:05.110078Z",
     "iopub.status.busy": "2022-02-01T17:57:05.109435Z",
     "iopub.status.idle": "2022-02-01T17:57:05.134037Z",
     "shell.execute_reply": "2022-02-01T17:57:05.133337Z",
     "shell.execute_reply.started": "2022-02-01T17:08:45.379700Z"
    },
    "papermill": {
     "duration": 0.061055,
     "end_time": "2022-02-01T17:57:05.134197",
     "exception": false,
     "start_time": "2022-02-01T17:57:05.073142",
     "status": "completed"
    },
    "tags": []
   },
   "outputs": [
    {
     "name": "stdout",
     "output_type": "stream",
     "text": [
      "Setup Complete\n"
     ]
    }
   ],
   "source": [
    "# Set up code checking\n",
    "import os\n",
    "if not os.path.exists(\"../input/train.csv\"):\n",
    "    os.symlink(\"../input/home-data-for-ml-course/train.csv\", \"../input/train.csv\")  \n",
    "    os.symlink(\"../input/home-data-for-ml-course/test.csv\", \"../input/test.csv\") \n",
    "from learntools.core import binder\n",
    "binder.bind(globals())\n",
    "from learntools.ml_intermediate.ex3 import *\n",
    "print(\"Setup Complete\")"
   ]
  },
  {
   "cell_type": "markdown",
   "id": "1fd24d42",
   "metadata": {
    "papermill": {
     "duration": 0.024416,
     "end_time": "2022-02-01T17:57:05.184813",
     "exception": false,
     "start_time": "2022-02-01T17:57:05.160397",
     "status": "completed"
    },
    "tags": []
   },
   "source": [
    "In this exercise, you will work with data from the [Housing Prices Competition for Kaggle Learn Users](https://www.kaggle.com/c/home-data-for-ml-course). \n",
    "\n",
    "![Ames Housing dataset image](https://i.imgur.com/lTJVG4e.png)\n",
    "\n",
    "Run the next code cell without changes to load the training and validation sets in `X_train`, `X_valid`, `y_train`, and `y_valid`.  The test set is loaded in `X_test`."
   ]
  },
  {
   "cell_type": "code",
   "execution_count": 2,
   "id": "7a21d39c",
   "metadata": {
    "execution": {
     "iopub.execute_input": "2022-02-01T17:57:05.243862Z",
     "iopub.status.busy": "2022-02-01T17:57:05.243344Z",
     "iopub.status.idle": "2022-02-01T17:57:06.285267Z",
     "shell.execute_reply": "2022-02-01T17:57:06.286650Z",
     "shell.execute_reply.started": "2022-02-01T17:08:45.404864Z"
    },
    "papermill": {
     "duration": 1.077576,
     "end_time": "2022-02-01T17:57:06.287038",
     "exception": false,
     "start_time": "2022-02-01T17:57:05.209462",
     "status": "completed"
    },
    "tags": []
   },
   "outputs": [],
   "source": [
    "import pandas as pd\n",
    "from sklearn.model_selection import train_test_split\n",
    "\n",
    "# Read the data\n",
    "X = pd.read_csv('../input/train.csv', index_col='Id') \n",
    "X_test = pd.read_csv('../input/test.csv', index_col='Id')\n",
    "\n",
    "# Remove rows with missing target, separate target from predictors\n",
    "X.dropna(axis=0, subset=['SalePrice'], inplace=True)\n",
    "y = X.SalePrice\n",
    "X.drop(['SalePrice'], axis=1, inplace=True)\n",
    "\n",
    "# To keep things simple, we'll drop columns with missing values\n",
    "cols_with_missing = [col for col in X.columns if X[col].isnull().any()] \n",
    "X.drop(cols_with_missing, axis=1, inplace=True)\n",
    "X_test.drop(cols_with_missing, axis=1, inplace=True)\n",
    "\n",
    "# Break off validation set from training data\n",
    "X_train, X_valid, y_train, y_valid = train_test_split(X, y,\n",
    "                                                      train_size=0.8, test_size=0.2,\n",
    "                                                      random_state=0)"
   ]
  },
  {
   "cell_type": "markdown",
   "id": "b42fb861",
   "metadata": {
    "papermill": {
     "duration": 0.040732,
     "end_time": "2022-02-01T17:57:06.386000",
     "exception": false,
     "start_time": "2022-02-01T17:57:06.345268",
     "status": "completed"
    },
    "tags": []
   },
   "source": [
    "Use the next code cell to print the first five rows of the data."
   ]
  },
  {
   "cell_type": "code",
   "execution_count": 3,
   "id": "cc900d05",
   "metadata": {
    "execution": {
     "iopub.execute_input": "2022-02-01T17:57:06.477688Z",
     "iopub.status.busy": "2022-02-01T17:57:06.476893Z",
     "iopub.status.idle": "2022-02-01T17:57:06.505971Z",
     "shell.execute_reply": "2022-02-01T17:57:06.506957Z",
     "shell.execute_reply.started": "2022-02-01T17:08:45.475622Z"
    },
    "papermill": {
     "duration": 0.080567,
     "end_time": "2022-02-01T17:57:06.507133",
     "exception": false,
     "start_time": "2022-02-01T17:57:06.426566",
     "status": "completed"
    },
    "tags": []
   },
   "outputs": [
    {
     "data": {
      "text/html": [
       "<div>\n",
       "<style scoped>\n",
       "    .dataframe tbody tr th:only-of-type {\n",
       "        vertical-align: middle;\n",
       "    }\n",
       "\n",
       "    .dataframe tbody tr th {\n",
       "        vertical-align: top;\n",
       "    }\n",
       "\n",
       "    .dataframe thead th {\n",
       "        text-align: right;\n",
       "    }\n",
       "</style>\n",
       "<table border=\"1\" class=\"dataframe\">\n",
       "  <thead>\n",
       "    <tr style=\"text-align: right;\">\n",
       "      <th></th>\n",
       "      <th>MSSubClass</th>\n",
       "      <th>MSZoning</th>\n",
       "      <th>LotArea</th>\n",
       "      <th>Street</th>\n",
       "      <th>LotShape</th>\n",
       "      <th>LandContour</th>\n",
       "      <th>Utilities</th>\n",
       "      <th>LotConfig</th>\n",
       "      <th>LandSlope</th>\n",
       "      <th>Neighborhood</th>\n",
       "      <th>...</th>\n",
       "      <th>OpenPorchSF</th>\n",
       "      <th>EnclosedPorch</th>\n",
       "      <th>3SsnPorch</th>\n",
       "      <th>ScreenPorch</th>\n",
       "      <th>PoolArea</th>\n",
       "      <th>MiscVal</th>\n",
       "      <th>MoSold</th>\n",
       "      <th>YrSold</th>\n",
       "      <th>SaleType</th>\n",
       "      <th>SaleCondition</th>\n",
       "    </tr>\n",
       "    <tr>\n",
       "      <th>Id</th>\n",
       "      <th></th>\n",
       "      <th></th>\n",
       "      <th></th>\n",
       "      <th></th>\n",
       "      <th></th>\n",
       "      <th></th>\n",
       "      <th></th>\n",
       "      <th></th>\n",
       "      <th></th>\n",
       "      <th></th>\n",
       "      <th></th>\n",
       "      <th></th>\n",
       "      <th></th>\n",
       "      <th></th>\n",
       "      <th></th>\n",
       "      <th></th>\n",
       "      <th></th>\n",
       "      <th></th>\n",
       "      <th></th>\n",
       "      <th></th>\n",
       "      <th></th>\n",
       "    </tr>\n",
       "  </thead>\n",
       "  <tbody>\n",
       "    <tr>\n",
       "      <th>619</th>\n",
       "      <td>20</td>\n",
       "      <td>RL</td>\n",
       "      <td>11694</td>\n",
       "      <td>Pave</td>\n",
       "      <td>Reg</td>\n",
       "      <td>Lvl</td>\n",
       "      <td>AllPub</td>\n",
       "      <td>Inside</td>\n",
       "      <td>Gtl</td>\n",
       "      <td>NridgHt</td>\n",
       "      <td>...</td>\n",
       "      <td>108</td>\n",
       "      <td>0</td>\n",
       "      <td>0</td>\n",
       "      <td>260</td>\n",
       "      <td>0</td>\n",
       "      <td>0</td>\n",
       "      <td>7</td>\n",
       "      <td>2007</td>\n",
       "      <td>New</td>\n",
       "      <td>Partial</td>\n",
       "    </tr>\n",
       "    <tr>\n",
       "      <th>871</th>\n",
       "      <td>20</td>\n",
       "      <td>RL</td>\n",
       "      <td>6600</td>\n",
       "      <td>Pave</td>\n",
       "      <td>Reg</td>\n",
       "      <td>Lvl</td>\n",
       "      <td>AllPub</td>\n",
       "      <td>Inside</td>\n",
       "      <td>Gtl</td>\n",
       "      <td>NAmes</td>\n",
       "      <td>...</td>\n",
       "      <td>0</td>\n",
       "      <td>0</td>\n",
       "      <td>0</td>\n",
       "      <td>0</td>\n",
       "      <td>0</td>\n",
       "      <td>0</td>\n",
       "      <td>8</td>\n",
       "      <td>2009</td>\n",
       "      <td>WD</td>\n",
       "      <td>Normal</td>\n",
       "    </tr>\n",
       "    <tr>\n",
       "      <th>93</th>\n",
       "      <td>30</td>\n",
       "      <td>RL</td>\n",
       "      <td>13360</td>\n",
       "      <td>Pave</td>\n",
       "      <td>IR1</td>\n",
       "      <td>HLS</td>\n",
       "      <td>AllPub</td>\n",
       "      <td>Inside</td>\n",
       "      <td>Gtl</td>\n",
       "      <td>Crawfor</td>\n",
       "      <td>...</td>\n",
       "      <td>0</td>\n",
       "      <td>44</td>\n",
       "      <td>0</td>\n",
       "      <td>0</td>\n",
       "      <td>0</td>\n",
       "      <td>0</td>\n",
       "      <td>8</td>\n",
       "      <td>2009</td>\n",
       "      <td>WD</td>\n",
       "      <td>Normal</td>\n",
       "    </tr>\n",
       "    <tr>\n",
       "      <th>818</th>\n",
       "      <td>20</td>\n",
       "      <td>RL</td>\n",
       "      <td>13265</td>\n",
       "      <td>Pave</td>\n",
       "      <td>IR1</td>\n",
       "      <td>Lvl</td>\n",
       "      <td>AllPub</td>\n",
       "      <td>CulDSac</td>\n",
       "      <td>Gtl</td>\n",
       "      <td>Mitchel</td>\n",
       "      <td>...</td>\n",
       "      <td>59</td>\n",
       "      <td>0</td>\n",
       "      <td>0</td>\n",
       "      <td>0</td>\n",
       "      <td>0</td>\n",
       "      <td>0</td>\n",
       "      <td>7</td>\n",
       "      <td>2008</td>\n",
       "      <td>WD</td>\n",
       "      <td>Normal</td>\n",
       "    </tr>\n",
       "    <tr>\n",
       "      <th>303</th>\n",
       "      <td>20</td>\n",
       "      <td>RL</td>\n",
       "      <td>13704</td>\n",
       "      <td>Pave</td>\n",
       "      <td>IR1</td>\n",
       "      <td>Lvl</td>\n",
       "      <td>AllPub</td>\n",
       "      <td>Corner</td>\n",
       "      <td>Gtl</td>\n",
       "      <td>CollgCr</td>\n",
       "      <td>...</td>\n",
       "      <td>81</td>\n",
       "      <td>0</td>\n",
       "      <td>0</td>\n",
       "      <td>0</td>\n",
       "      <td>0</td>\n",
       "      <td>0</td>\n",
       "      <td>1</td>\n",
       "      <td>2006</td>\n",
       "      <td>WD</td>\n",
       "      <td>Normal</td>\n",
       "    </tr>\n",
       "  </tbody>\n",
       "</table>\n",
       "<p>5 rows × 60 columns</p>\n",
       "</div>"
      ],
      "text/plain": [
       "     MSSubClass MSZoning  LotArea Street LotShape LandContour Utilities  \\\n",
       "Id                                                                        \n",
       "619          20       RL    11694   Pave      Reg         Lvl    AllPub   \n",
       "871          20       RL     6600   Pave      Reg         Lvl    AllPub   \n",
       "93           30       RL    13360   Pave      IR1         HLS    AllPub   \n",
       "818          20       RL    13265   Pave      IR1         Lvl    AllPub   \n",
       "303          20       RL    13704   Pave      IR1         Lvl    AllPub   \n",
       "\n",
       "    LotConfig LandSlope Neighborhood  ... OpenPorchSF EnclosedPorch 3SsnPorch  \\\n",
       "Id                                    ...                                       \n",
       "619    Inside       Gtl      NridgHt  ...         108             0         0   \n",
       "871    Inside       Gtl        NAmes  ...           0             0         0   \n",
       "93     Inside       Gtl      Crawfor  ...           0            44         0   \n",
       "818   CulDSac       Gtl      Mitchel  ...          59             0         0   \n",
       "303    Corner       Gtl      CollgCr  ...          81             0         0   \n",
       "\n",
       "    ScreenPorch  PoolArea  MiscVal  MoSold  YrSold SaleType SaleCondition  \n",
       "Id                                                                         \n",
       "619         260         0        0       7    2007      New       Partial  \n",
       "871           0         0        0       8    2009       WD        Normal  \n",
       "93            0         0        0       8    2009       WD        Normal  \n",
       "818           0         0        0       7    2008       WD        Normal  \n",
       "303           0         0        0       1    2006       WD        Normal  \n",
       "\n",
       "[5 rows x 60 columns]"
      ]
     },
     "execution_count": 3,
     "metadata": {},
     "output_type": "execute_result"
    }
   ],
   "source": [
    "X_train.head()"
   ]
  },
  {
   "cell_type": "markdown",
   "id": "c2c4a6e2",
   "metadata": {
    "papermill": {
     "duration": 0.042152,
     "end_time": "2022-02-01T17:57:06.592097",
     "exception": false,
     "start_time": "2022-02-01T17:57:06.549945",
     "status": "completed"
    },
    "tags": []
   },
   "source": [
    "Notice that the dataset contains both numerical and categorical variables.  You'll need to encode the categorical data before training a model.\n",
    "\n",
    "To compare different models, you'll use the same `score_dataset()` function from the tutorial.  This function reports the [mean absolute error](https://en.wikipedia.org/wiki/Mean_absolute_error) (MAE) from a random forest model."
   ]
  },
  {
   "cell_type": "code",
   "execution_count": 4,
   "id": "6f7a77c2",
   "metadata": {
    "execution": {
     "iopub.execute_input": "2022-02-01T17:57:06.684858Z",
     "iopub.status.busy": "2022-02-01T17:57:06.682952Z",
     "iopub.status.idle": "2022-02-01T17:57:06.854541Z",
     "shell.execute_reply": "2022-02-01T17:57:06.855085Z",
     "shell.execute_reply.started": "2022-02-01T17:08:50.939544Z"
    },
    "papermill": {
     "duration": 0.221008,
     "end_time": "2022-02-01T17:57:06.855241",
     "exception": false,
     "start_time": "2022-02-01T17:57:06.634233",
     "status": "completed"
    },
    "tags": []
   },
   "outputs": [],
   "source": [
    "from sklearn.ensemble import RandomForestRegressor\n",
    "from sklearn.metrics import mean_absolute_error\n",
    "\n",
    "# function for comparing different approaches\n",
    "def score_dataset(X_train, X_valid, y_train, y_valid):\n",
    "    model = RandomForestRegressor(n_estimators=100, random_state=0)\n",
    "    model.fit(X_train, y_train)\n",
    "    preds = model.predict(X_valid)\n",
    "    return mean_absolute_error(y_valid, preds)"
   ]
  },
  {
   "cell_type": "markdown",
   "id": "57e5c8f5",
   "metadata": {
    "papermill": {
     "duration": 0.026504,
     "end_time": "2022-02-01T17:57:06.910488",
     "exception": false,
     "start_time": "2022-02-01T17:57:06.883984",
     "status": "completed"
    },
    "tags": []
   },
   "source": [
    "# Step 1: Drop columns with categorical data\n",
    "\n",
    "You'll get started with the most straightforward approach.  Use the code cell below to preprocess the data in `X_train` and `X_valid` to remove columns with categorical data.  Set the preprocessed DataFrames to `drop_X_train` and `drop_X_valid`, respectively.  "
   ]
  },
  {
   "cell_type": "code",
   "execution_count": 5,
   "id": "4c9423d1",
   "metadata": {
    "execution": {
     "iopub.execute_input": "2022-02-01T17:57:06.971021Z",
     "iopub.status.busy": "2022-02-01T17:57:06.970222Z",
     "iopub.status.idle": "2022-02-01T17:57:06.974980Z",
     "shell.execute_reply": "2022-02-01T17:57:06.974566Z",
     "shell.execute_reply.started": "2022-02-01T17:11:56.026294Z"
    },
    "papermill": {
     "duration": 0.038473,
     "end_time": "2022-02-01T17:57:06.975099",
     "exception": false,
     "start_time": "2022-02-01T17:57:06.936626",
     "status": "completed"
    },
    "tags": []
   },
   "outputs": [
    {
     "data": {
      "application/javascript": [
       "parent.postMessage({\"jupyterEvent\": \"custom.exercise_interaction\", \"data\": {\"outcomeType\": 1, \"valueTowardsCompletion\": 0.5, \"interactionType\": 1, \"questionType\": 2, \"questionId\": \"1_Drop\", \"learnToolsVersion\": \"0.3.4\", \"failureMessage\": \"\", \"exceptionClass\": \"\", \"trace\": \"\"}}, \"*\")"
      ],
      "text/plain": [
       "<IPython.core.display.Javascript object>"
      ]
     },
     "metadata": {},
     "output_type": "display_data"
    },
    {
     "data": {
      "text/markdown": [
       "<span style=\"color:#33cc33\">Correct</span>"
      ],
      "text/plain": [
       "Correct"
      ]
     },
     "metadata": {},
     "output_type": "display_data"
    }
   ],
   "source": [
    "# Fill in the lines below: drop columns in training and validation data\n",
    "drop_X_train = X_train.select_dtypes(exclude=['object'])\n",
    "drop_X_valid = X_valid.select_dtypes(exclude=['object'])\n",
    "\n",
    "# Check your answers\n",
    "step_1.check()"
   ]
  },
  {
   "cell_type": "code",
   "execution_count": 6,
   "id": "9f0343b6",
   "metadata": {
    "execution": {
     "iopub.execute_input": "2022-02-01T17:57:07.031022Z",
     "iopub.status.busy": "2022-02-01T17:57:07.030272Z",
     "iopub.status.idle": "2022-02-01T17:57:07.032742Z",
     "shell.execute_reply": "2022-02-01T17:57:07.032327Z",
     "shell.execute_reply.started": "2022-02-01T17:11:59.538389Z"
    },
    "papermill": {
     "duration": 0.031647,
     "end_time": "2022-02-01T17:57:07.032842",
     "exception": false,
     "start_time": "2022-02-01T17:57:07.001195",
     "status": "completed"
    },
    "tags": []
   },
   "outputs": [],
   "source": [
    "# Lines below will give you a hint or solution code\n",
    "#step_1.hint()\n",
    "#step_1.solution()"
   ]
  },
  {
   "cell_type": "markdown",
   "id": "33e1c568",
   "metadata": {
    "papermill": {
     "duration": 0.025703,
     "end_time": "2022-02-01T17:57:07.084815",
     "exception": false,
     "start_time": "2022-02-01T17:57:07.059112",
     "status": "completed"
    },
    "tags": []
   },
   "source": [
    "Run the next code cell to get the MAE for this approach."
   ]
  },
  {
   "cell_type": "code",
   "execution_count": 7,
   "id": "5596da9c",
   "metadata": {
    "execution": {
     "iopub.execute_input": "2022-02-01T17:57:07.162942Z",
     "iopub.status.busy": "2022-02-01T17:57:07.142682Z",
     "iopub.status.idle": "2022-02-01T17:57:08.169871Z",
     "shell.execute_reply": "2022-02-01T17:57:08.169148Z",
     "shell.execute_reply.started": "2022-02-01T17:12:00.099889Z"
    },
    "papermill": {
     "duration": 1.059167,
     "end_time": "2022-02-01T17:57:08.170054",
     "exception": false,
     "start_time": "2022-02-01T17:57:07.110887",
     "status": "completed"
    },
    "tags": []
   },
   "outputs": [
    {
     "name": "stdout",
     "output_type": "stream",
     "text": [
      "MAE from Approach 1 (Drop categorical variables):\n",
      "17837.82570776256\n"
     ]
    }
   ],
   "source": [
    "print(\"MAE from Approach 1 (Drop categorical variables):\")\n",
    "print(score_dataset(drop_X_train, drop_X_valid, y_train, y_valid))"
   ]
  },
  {
   "cell_type": "markdown",
   "id": "16dcfb3e",
   "metadata": {
    "papermill": {
     "duration": 0.02683,
     "end_time": "2022-02-01T17:57:08.224632",
     "exception": false,
     "start_time": "2022-02-01T17:57:08.197802",
     "status": "completed"
    },
    "tags": []
   },
   "source": [
    "Before jumping into ordinal encoding, we'll investigate the dataset.  Specifically, we'll look at the `'Condition2'` column.  The code cell below prints the unique entries in both the training and validation sets."
   ]
  },
  {
   "cell_type": "code",
   "execution_count": 8,
   "id": "e3156fa7",
   "metadata": {
    "execution": {
     "iopub.execute_input": "2022-02-01T17:57:08.286826Z",
     "iopub.status.busy": "2022-02-01T17:57:08.285328Z",
     "iopub.status.idle": "2022-02-01T17:57:08.289191Z",
     "shell.execute_reply": "2022-02-01T17:57:08.288575Z",
     "shell.execute_reply.started": "2022-02-01T17:12:11.435403Z"
    },
    "papermill": {
     "duration": 0.036916,
     "end_time": "2022-02-01T17:57:08.289335",
     "exception": false,
     "start_time": "2022-02-01T17:57:08.252419",
     "status": "completed"
    },
    "tags": []
   },
   "outputs": [
    {
     "name": "stdout",
     "output_type": "stream",
     "text": [
      "Unique values in 'Condition2' column in training data: ['Norm' 'PosA' 'Feedr' 'PosN' 'Artery' 'RRAe']\n",
      "\n",
      "Unique values in 'Condition2' column in validation data: ['Norm' 'RRAn' 'RRNn' 'Artery' 'Feedr' 'PosN']\n"
     ]
    }
   ],
   "source": [
    "print(\"Unique values in 'Condition2' column in training data:\", X_train['Condition2'].unique())\n",
    "print(\"\\nUnique values in 'Condition2' column in validation data:\", X_valid['Condition2'].unique())"
   ]
  },
  {
   "cell_type": "markdown",
   "id": "1ebbd927",
   "metadata": {
    "papermill": {
     "duration": 0.02751,
     "end_time": "2022-02-01T17:57:08.345490",
     "exception": false,
     "start_time": "2022-02-01T17:57:08.317980",
     "status": "completed"
    },
    "tags": []
   },
   "source": [
    "# Step 2: Ordinal encoding\n",
    "\n",
    "### Part A\n",
    "\n",
    "If you now write code to: \n",
    "- fit an ordinal encoder to the training data, and then \n",
    "- use it to transform both the training and validation data, \n",
    "\n",
    "you'll get an error.  Can you see why this is the case?  (_You'll need  to use the above output to answer this question._)"
   ]
  },
  {
   "cell_type": "code",
   "execution_count": 9,
   "id": "190987cd",
   "metadata": {
    "execution": {
     "iopub.execute_input": "2022-02-01T17:57:08.406423Z",
     "iopub.status.busy": "2022-02-01T17:57:08.405757Z",
     "iopub.status.idle": "2022-02-01T17:57:08.409631Z",
     "shell.execute_reply": "2022-02-01T17:57:08.409211Z",
     "shell.execute_reply.started": "2022-02-01T17:12:21.603204Z"
    },
    "papermill": {
     "duration": 0.037304,
     "end_time": "2022-02-01T17:57:08.409728",
     "exception": false,
     "start_time": "2022-02-01T17:57:08.372424",
     "status": "completed"
    },
    "tags": []
   },
   "outputs": [
    {
     "data": {
      "application/javascript": [
       "parent.postMessage({\"jupyterEvent\": \"custom.exercise_interaction\", \"data\": {\"outcomeType\": 1, \"valueTowardsCompletion\": 0.5, \"interactionType\": 1, \"questionType\": 4, \"questionId\": \"2.1_LabelA\", \"learnToolsVersion\": \"0.3.4\", \"failureMessage\": \"\", \"exceptionClass\": \"\", \"trace\": \"\"}}, \"*\")"
      ],
      "text/plain": [
       "<IPython.core.display.Javascript object>"
      ]
     },
     "metadata": {},
     "output_type": "display_data"
    },
    {
     "data": {
      "text/markdown": [
       "<span style=\"color:#33cc33\">Correct:</span> \n",
       "\n",
       "Fitting an ordinal encoder to a column in the training data creates a corresponding integer-valued label for each unique value **that appears in the training data**. In the case that the validation data contains values that don't also appear in the training data, the encoder will throw an error, because these values won't have an integer assigned to them.  Notice that the `'Condition2'` column in the validation data contains the values `'RRAn'` and `'RRNn'`, but these don't appear in the training data -- thus, if we try to use an ordinal encoder with scikit-learn, the code will throw an error."
      ],
      "text/plain": [
       "Correct: \n",
       "\n",
       "Fitting an ordinal encoder to a column in the training data creates a corresponding integer-valued label for each unique value **that appears in the training data**. In the case that the validation data contains values that don't also appear in the training data, the encoder will throw an error, because these values won't have an integer assigned to them.  Notice that the `'Condition2'` column in the validation data contains the values `'RRAn'` and `'RRNn'`, but these don't appear in the training data -- thus, if we try to use an ordinal encoder with scikit-learn, the code will throw an error."
      ]
     },
     "metadata": {},
     "output_type": "display_data"
    }
   ],
   "source": [
    "# Check your answer (Run this code cell to receive credit!)\n",
    "step_2.a.check()"
   ]
  },
  {
   "cell_type": "code",
   "execution_count": 10,
   "id": "2afcfb7a",
   "metadata": {
    "execution": {
     "iopub.execute_input": "2022-02-01T17:57:08.469310Z",
     "iopub.status.busy": "2022-02-01T17:57:08.468646Z",
     "iopub.status.idle": "2022-02-01T17:57:08.471402Z",
     "shell.execute_reply": "2022-02-01T17:57:08.470951Z",
     "shell.execute_reply.started": "2022-02-01T17:12:24.531768Z"
    },
    "papermill": {
     "duration": 0.0332,
     "end_time": "2022-02-01T17:57:08.471513",
     "exception": false,
     "start_time": "2022-02-01T17:57:08.438313",
     "status": "completed"
    },
    "tags": []
   },
   "outputs": [],
   "source": [
    "#step_2.a.hint()"
   ]
  },
  {
   "cell_type": "markdown",
   "id": "517bc9f7",
   "metadata": {
    "papermill": {
     "duration": 0.027401,
     "end_time": "2022-02-01T17:57:08.526858",
     "exception": false,
     "start_time": "2022-02-01T17:57:08.499457",
     "status": "completed"
    },
    "tags": []
   },
   "source": [
    "This is a common problem that you'll encounter with real-world data, and there are many approaches to fixing this issue.  For instance, you can write a custom ordinal encoder to deal with new categories.  The simplest approach, however, is to drop the problematic categorical columns.  \n",
    "\n",
    "Run the code cell below to save the problematic columns to a Python list `bad_label_cols`.  Likewise, columns that can be safely ordinal encoded are stored in `good_label_cols`."
   ]
  },
  {
   "cell_type": "code",
   "execution_count": 11,
   "id": "0d8a81cc",
   "metadata": {
    "execution": {
     "iopub.execute_input": "2022-02-01T17:57:08.598039Z",
     "iopub.status.busy": "2022-02-01T17:57:08.596344Z",
     "iopub.status.idle": "2022-02-01T17:57:08.600320Z",
     "shell.execute_reply": "2022-02-01T17:57:08.599722Z",
     "shell.execute_reply.started": "2022-02-01T17:12:28.046381Z"
    },
    "papermill": {
     "duration": 0.045983,
     "end_time": "2022-02-01T17:57:08.600457",
     "exception": false,
     "start_time": "2022-02-01T17:57:08.554474",
     "status": "completed"
    },
    "tags": []
   },
   "outputs": [
    {
     "name": "stdout",
     "output_type": "stream",
     "text": [
      "Categorical columns that will be ordinal encoded: ['MSZoning', 'Street', 'LotShape', 'LandContour', 'Utilities', 'LotConfig', 'LandSlope', 'Neighborhood', 'Condition1', 'BldgType', 'HouseStyle', 'RoofStyle', 'Exterior1st', 'Exterior2nd', 'ExterQual', 'ExterCond', 'Foundation', 'Heating', 'HeatingQC', 'CentralAir', 'KitchenQual', 'PavedDrive', 'SaleType', 'SaleCondition']\n",
      "\n",
      "Categorical columns that will be dropped from the dataset: ['Functional', 'Condition2', 'RoofMatl']\n"
     ]
    }
   ],
   "source": [
    "# Categorical columns in the training data\n",
    "object_cols = [col for col in X_train.columns if X_train[col].dtype == \"object\"]\n",
    "\n",
    "# Columns that can be safely ordinal encoded\n",
    "good_label_cols = [col for col in object_cols if \n",
    "                   set(X_valid[col]).issubset(set(X_train[col]))]\n",
    "        \n",
    "# Problematic columns that will be dropped from the dataset\n",
    "bad_label_cols = list(set(object_cols)-set(good_label_cols))\n",
    "        \n",
    "print('Categorical columns that will be ordinal encoded:', good_label_cols)\n",
    "print('\\nCategorical columns that will be dropped from the dataset:', bad_label_cols)"
   ]
  },
  {
   "cell_type": "markdown",
   "id": "488c3a0e",
   "metadata": {
    "papermill": {
     "duration": 0.028085,
     "end_time": "2022-02-01T17:57:08.657749",
     "exception": false,
     "start_time": "2022-02-01T17:57:08.629664",
     "status": "completed"
    },
    "tags": []
   },
   "source": [
    "### Part B\n",
    "\n",
    "Use the next code cell to ordinal encode the data in `X_train` and `X_valid`.  Set the preprocessed DataFrames to `label_X_train` and `label_X_valid`, respectively.  \n",
    "- We have provided code below to drop the categorical columns in `bad_label_cols` from the dataset. \n",
    "- You should ordinal encode the categorical columns in `good_label_cols`.  "
   ]
  },
  {
   "cell_type": "code",
   "execution_count": 12,
   "id": "bd9a7fed",
   "metadata": {
    "execution": {
     "iopub.execute_input": "2022-02-01T17:57:08.739501Z",
     "iopub.status.busy": "2022-02-01T17:57:08.738692Z",
     "iopub.status.idle": "2022-02-01T17:57:08.758364Z",
     "shell.execute_reply": "2022-02-01T17:57:08.758756Z",
     "shell.execute_reply.started": "2022-02-01T17:18:55.639652Z"
    },
    "papermill": {
     "duration": 0.073277,
     "end_time": "2022-02-01T17:57:08.758869",
     "exception": false,
     "start_time": "2022-02-01T17:57:08.685592",
     "status": "completed"
    },
    "tags": []
   },
   "outputs": [
    {
     "data": {
      "application/javascript": [
       "parent.postMessage({\"jupyterEvent\": \"custom.exercise_interaction\", \"data\": {\"outcomeType\": 1, \"valueTowardsCompletion\": 0.5, \"interactionType\": 1, \"questionType\": 2, \"questionId\": \"2.2_LabelB\", \"learnToolsVersion\": \"0.3.4\", \"failureMessage\": \"\", \"exceptionClass\": \"\", \"trace\": \"\"}}, \"*\")"
      ],
      "text/plain": [
       "<IPython.core.display.Javascript object>"
      ]
     },
     "metadata": {},
     "output_type": "display_data"
    },
    {
     "data": {
      "text/markdown": [
       "<span style=\"color:#33cc33\">Correct</span>"
      ],
      "text/plain": [
       "Correct"
      ]
     },
     "metadata": {},
     "output_type": "display_data"
    }
   ],
   "source": [
    "from sklearn.preprocessing import OrdinalEncoder\n",
    "\n",
    "# Drop categorical columns that will not be encoded\n",
    "label_X_train = X_train.drop(bad_label_cols, axis=1)\n",
    "label_X_valid = X_valid.drop(bad_label_cols, axis=1)\n",
    "\n",
    "# Apply ordinal encoder \n",
    "ordinal_encoder=OrdinalEncoder()\n",
    "label_X_train[good_label_cols]=ordinal_encoder.fit_transform(X_train[good_label_cols])\n",
    "label_X_valid[good_label_cols]=ordinal_encoder.transform(X_valid[good_label_cols])\n",
    "# Check your answer\n",
    "step_2.b.check()"
   ]
  },
  {
   "cell_type": "code",
   "execution_count": 13,
   "id": "9e38e5fa",
   "metadata": {
    "execution": {
     "iopub.execute_input": "2022-02-01T17:57:08.819983Z",
     "iopub.status.busy": "2022-02-01T17:57:08.819399Z",
     "iopub.status.idle": "2022-02-01T17:57:08.821641Z",
     "shell.execute_reply": "2022-02-01T17:57:08.822054Z",
     "shell.execute_reply.started": "2022-02-01T17:18:59.246613Z"
    },
    "papermill": {
     "duration": 0.034699,
     "end_time": "2022-02-01T17:57:08.822179",
     "exception": false,
     "start_time": "2022-02-01T17:57:08.787480",
     "status": "completed"
    },
    "tags": []
   },
   "outputs": [],
   "source": [
    "# Lines below will give you a hint or solution code\n",
    "#step_2.b.hint()\n",
    "#step_2.b.solution()"
   ]
  },
  {
   "cell_type": "markdown",
   "id": "2124f2b1",
   "metadata": {
    "papermill": {
     "duration": 0.031213,
     "end_time": "2022-02-01T17:57:08.882447",
     "exception": false,
     "start_time": "2022-02-01T17:57:08.851234",
     "status": "completed"
    },
    "tags": []
   },
   "source": [
    "Run the next code cell to get the MAE for this approach."
   ]
  },
  {
   "cell_type": "code",
   "execution_count": 14,
   "id": "d7069037",
   "metadata": {
    "execution": {
     "iopub.execute_input": "2022-02-01T17:57:08.946678Z",
     "iopub.status.busy": "2022-02-01T17:57:08.945833Z",
     "iopub.status.idle": "2022-02-01T17:57:10.236430Z",
     "shell.execute_reply": "2022-02-01T17:57:10.235729Z",
     "shell.execute_reply.started": "2022-02-01T17:19:02.079349Z"
    },
    "papermill": {
     "duration": 1.325464,
     "end_time": "2022-02-01T17:57:10.236633",
     "exception": false,
     "start_time": "2022-02-01T17:57:08.911169",
     "status": "completed"
    },
    "tags": []
   },
   "outputs": [
    {
     "name": "stdout",
     "output_type": "stream",
     "text": [
      "MAE from Approach 2 (Ordinal Encoding):\n",
      "17098.01649543379\n"
     ]
    }
   ],
   "source": [
    "print(\"MAE from Approach 2 (Ordinal Encoding):\") \n",
    "print(score_dataset(label_X_train, label_X_valid, y_train, y_valid))"
   ]
  },
  {
   "cell_type": "markdown",
   "id": "9c74463c",
   "metadata": {
    "papermill": {
     "duration": 0.03074,
     "end_time": "2022-02-01T17:57:10.298738",
     "exception": false,
     "start_time": "2022-02-01T17:57:10.267998",
     "status": "completed"
    },
    "tags": []
   },
   "source": [
    "So far, you've tried two different approaches to dealing with categorical variables.  And, you've seen that encoding categorical data yields better results than removing columns from the dataset.\n",
    "\n",
    "Soon, you'll try one-hot encoding.  Before then, there's one additional topic we need to cover.  Begin by running the next code cell without changes.  "
   ]
  },
  {
   "cell_type": "code",
   "execution_count": 15,
   "id": "9793aa50",
   "metadata": {
    "execution": {
     "iopub.execute_input": "2022-02-01T17:57:10.364305Z",
     "iopub.status.busy": "2022-02-01T17:57:10.362623Z",
     "iopub.status.idle": "2022-02-01T17:57:10.373224Z",
     "shell.execute_reply": "2022-02-01T17:57:10.372717Z",
     "shell.execute_reply.started": "2022-02-01T17:19:06.501139Z"
    },
    "papermill": {
     "duration": 0.045304,
     "end_time": "2022-02-01T17:57:10.373332",
     "exception": false,
     "start_time": "2022-02-01T17:57:10.328028",
     "status": "completed"
    },
    "tags": []
   },
   "outputs": [
    {
     "data": {
      "text/plain": [
       "[('Street', 2),\n",
       " ('Utilities', 2),\n",
       " ('CentralAir', 2),\n",
       " ('LandSlope', 3),\n",
       " ('PavedDrive', 3),\n",
       " ('LotShape', 4),\n",
       " ('LandContour', 4),\n",
       " ('ExterQual', 4),\n",
       " ('KitchenQual', 4),\n",
       " ('MSZoning', 5),\n",
       " ('LotConfig', 5),\n",
       " ('BldgType', 5),\n",
       " ('ExterCond', 5),\n",
       " ('HeatingQC', 5),\n",
       " ('Condition2', 6),\n",
       " ('RoofStyle', 6),\n",
       " ('Foundation', 6),\n",
       " ('Heating', 6),\n",
       " ('Functional', 6),\n",
       " ('SaleCondition', 6),\n",
       " ('RoofMatl', 7),\n",
       " ('HouseStyle', 8),\n",
       " ('Condition1', 9),\n",
       " ('SaleType', 9),\n",
       " ('Exterior1st', 15),\n",
       " ('Exterior2nd', 16),\n",
       " ('Neighborhood', 25)]"
      ]
     },
     "execution_count": 15,
     "metadata": {},
     "output_type": "execute_result"
    }
   ],
   "source": [
    "# Get number of unique entries in each column with categorical data\n",
    "object_nunique = list(map(lambda col: X_train[col].nunique(), object_cols))\n",
    "d = dict(zip(object_cols, object_nunique))\n",
    "\n",
    "# Print number of unique entries by column, in ascending order\n",
    "sorted(d.items(), key=lambda x: x[1])"
   ]
  },
  {
   "cell_type": "markdown",
   "id": "ad83220e",
   "metadata": {
    "papermill": {
     "duration": 0.029822,
     "end_time": "2022-02-01T17:57:10.433290",
     "exception": false,
     "start_time": "2022-02-01T17:57:10.403468",
     "status": "completed"
    },
    "tags": []
   },
   "source": [
    "# Step 3: Investigating cardinality\n",
    "\n",
    "### Part A\n",
    "\n",
    "The output above shows, for each column with categorical data, the number of unique values in the column.  For instance, the `'Street'` column in the training data has two unique values: `'Grvl'` and `'Pave'`, corresponding to a gravel road and a paved road, respectively.\n",
    "\n",
    "We refer to the number of unique entries of a categorical variable as the **cardinality** of that categorical variable.  For instance, the `'Street'` variable has cardinality 2.\n",
    "\n",
    "Use the output above to answer the questions below."
   ]
  },
  {
   "cell_type": "code",
   "execution_count": 16,
   "id": "a635e6ac",
   "metadata": {
    "execution": {
     "iopub.execute_input": "2022-02-01T17:57:10.497866Z",
     "iopub.status.busy": "2022-02-01T17:57:10.497090Z",
     "iopub.status.idle": "2022-02-01T17:57:10.501707Z",
     "shell.execute_reply": "2022-02-01T17:57:10.501325Z",
     "shell.execute_reply.started": "2022-02-01T17:25:59.287121Z"
    },
    "papermill": {
     "duration": 0.038602,
     "end_time": "2022-02-01T17:57:10.501808",
     "exception": false,
     "start_time": "2022-02-01T17:57:10.463206",
     "status": "completed"
    },
    "tags": []
   },
   "outputs": [
    {
     "data": {
      "application/javascript": [
       "parent.postMessage({\"jupyterEvent\": \"custom.exercise_interaction\", \"data\": {\"outcomeType\": 1, \"valueTowardsCompletion\": 0.5, \"interactionType\": 1, \"questionType\": 1, \"questionId\": \"3.1_CardinalityA\", \"learnToolsVersion\": \"0.3.4\", \"failureMessage\": \"\", \"exceptionClass\": \"\", \"trace\": \"\"}}, \"*\")"
      ],
      "text/plain": [
       "<IPython.core.display.Javascript object>"
      ]
     },
     "metadata": {},
     "output_type": "display_data"
    },
    {
     "data": {
      "text/markdown": [
       "<span style=\"color:#33cc33\">Correct</span>"
      ],
      "text/plain": [
       "Correct"
      ]
     },
     "metadata": {},
     "output_type": "display_data"
    }
   ],
   "source": [
    "# Fill in the line below: How many categorical variables in the training data\n",
    "# have cardinality greater than 10?\n",
    "high_cardinality_numcols = 3\n",
    "\n",
    "# Fill in the line below: How many columns are needed to one-hot encode the \n",
    "# 'Neighborhood' variable in the training data?\n",
    "num_cols_neighborhood = 25\n",
    "\n",
    "# Check your answers\n",
    "step_3.a.check()"
   ]
  },
  {
   "cell_type": "code",
   "execution_count": 17,
   "id": "3d3b2ff5",
   "metadata": {
    "execution": {
     "iopub.execute_input": "2022-02-01T17:57:10.566196Z",
     "iopub.status.busy": "2022-02-01T17:57:10.565474Z",
     "iopub.status.idle": "2022-02-01T17:57:10.567390Z",
     "shell.execute_reply": "2022-02-01T17:57:10.567809Z",
     "shell.execute_reply.started": "2022-02-01T17:26:00.247095Z"
    },
    "papermill": {
     "duration": 0.035856,
     "end_time": "2022-02-01T17:57:10.567948",
     "exception": false,
     "start_time": "2022-02-01T17:57:10.532092",
     "status": "completed"
    },
    "tags": []
   },
   "outputs": [],
   "source": [
    "# Lines below will give you a hint or solution code\n",
    "#step_3.a.hint()\n",
    "#step_3.a.solution()"
   ]
  },
  {
   "cell_type": "markdown",
   "id": "105bfcf6",
   "metadata": {
    "papermill": {
     "duration": 0.03056,
     "end_time": "2022-02-01T17:57:10.629241",
     "exception": false,
     "start_time": "2022-02-01T17:57:10.598681",
     "status": "completed"
    },
    "tags": []
   },
   "source": [
    "### Part B\n",
    "\n",
    "For large datasets with many rows, one-hot encoding can greatly expand the size of the dataset.  For this reason, we typically will only one-hot encode columns with relatively low cardinality.  Then, high cardinality columns can either be dropped from the dataset, or we can use ordinal encoding.\n",
    "\n",
    "As an example, consider a dataset with 10,000 rows, and containing one categorical column with 100 unique entries.  \n",
    "- If this column is replaced with the corresponding one-hot encoding, how many entries are added to the dataset?  \n",
    "- If we instead replace the column with the ordinal encoding, how many entries are added?  \n",
    "\n",
    "Use your answers to fill in the lines below."
   ]
  },
  {
   "cell_type": "code",
   "execution_count": 18,
   "id": "99668722",
   "metadata": {
    "execution": {
     "iopub.execute_input": "2022-02-01T17:57:10.694832Z",
     "iopub.status.busy": "2022-02-01T17:57:10.694067Z",
     "iopub.status.idle": "2022-02-01T17:57:10.698223Z",
     "shell.execute_reply": "2022-02-01T17:57:10.698614Z",
     "shell.execute_reply.started": "2022-02-01T17:30:26.435265Z"
    },
    "papermill": {
     "duration": 0.039041,
     "end_time": "2022-02-01T17:57:10.698725",
     "exception": false,
     "start_time": "2022-02-01T17:57:10.659684",
     "status": "completed"
    },
    "tags": []
   },
   "outputs": [
    {
     "data": {
      "application/javascript": [
       "parent.postMessage({\"jupyterEvent\": \"custom.exercise_interaction\", \"data\": {\"outcomeType\": 1, \"valueTowardsCompletion\": 0.5, \"interactionType\": 1, \"questionType\": 1, \"questionId\": \"3.2_CardinalityB\", \"learnToolsVersion\": \"0.3.4\", \"failureMessage\": \"\", \"exceptionClass\": \"\", \"trace\": \"\"}}, \"*\")"
      ],
      "text/plain": [
       "<IPython.core.display.Javascript object>"
      ]
     },
     "metadata": {},
     "output_type": "display_data"
    },
    {
     "data": {
      "text/markdown": [
       "<span style=\"color:#33cc33\">Correct</span>"
      ],
      "text/plain": [
       "Correct"
      ]
     },
     "metadata": {},
     "output_type": "display_data"
    }
   ],
   "source": [
    "# Fill in the line below: How many entries are added to the dataset by \n",
    "# replacing the column with a one-hot encoding?\n",
    "OH_entries_added = 1e4*100-1e4\n",
    "\n",
    "# Fill in the line below: How many entries are added to the dataset by\n",
    "# replacing the column with an ordinal encoding?\n",
    "label_entries_added = 0\n",
    "\n",
    "# Check your answers\n",
    "step_3.b.check()"
   ]
  },
  {
   "cell_type": "code",
   "execution_count": 19,
   "id": "ea68b58f",
   "metadata": {
    "execution": {
     "iopub.execute_input": "2022-02-01T17:57:10.764930Z",
     "iopub.status.busy": "2022-02-01T17:57:10.764270Z",
     "iopub.status.idle": "2022-02-01T17:57:10.766341Z",
     "shell.execute_reply": "2022-02-01T17:57:10.766695Z",
     "shell.execute_reply.started": "2022-02-01T17:30:27.413009Z"
    },
    "papermill": {
     "duration": 0.036773,
     "end_time": "2022-02-01T17:57:10.766809",
     "exception": false,
     "start_time": "2022-02-01T17:57:10.730036",
     "status": "completed"
    },
    "tags": []
   },
   "outputs": [],
   "source": [
    "# Lines below will give you a hint or solution code\n",
    "#step_3.b.hint()\n",
    "#step_3.b.solution()"
   ]
  },
  {
   "cell_type": "markdown",
   "id": "26375191",
   "metadata": {
    "papermill": {
     "duration": 0.031628,
     "end_time": "2022-02-01T17:57:10.829810",
     "exception": false,
     "start_time": "2022-02-01T17:57:10.798182",
     "status": "completed"
    },
    "tags": []
   },
   "source": [
    "Next, you'll experiment with one-hot encoding.  But, instead of encoding all of the categorical variables in the dataset, you'll only create a one-hot encoding for columns with cardinality less than 10.\n",
    "\n",
    "Run the code cell below without changes to set `low_cardinality_cols` to a Python list containing the columns that will be one-hot encoded.  Likewise, `high_cardinality_cols` contains a list of categorical columns that will be dropped from the dataset."
   ]
  },
  {
   "cell_type": "code",
   "execution_count": 20,
   "id": "19d54715",
   "metadata": {
    "execution": {
     "iopub.execute_input": "2022-02-01T17:57:10.898071Z",
     "iopub.status.busy": "2022-02-01T17:57:10.897302Z",
     "iopub.status.idle": "2022-02-01T17:57:10.905377Z",
     "shell.execute_reply": "2022-02-01T17:57:10.906066Z",
     "shell.execute_reply.started": "2022-02-01T17:30:31.120044Z"
    },
    "papermill": {
     "duration": 0.044983,
     "end_time": "2022-02-01T17:57:10.906233",
     "exception": false,
     "start_time": "2022-02-01T17:57:10.861250",
     "status": "completed"
    },
    "tags": []
   },
   "outputs": [
    {
     "name": "stdout",
     "output_type": "stream",
     "text": [
      "Categorical columns that will be one-hot encoded: ['MSZoning', 'Street', 'LotShape', 'LandContour', 'Utilities', 'LotConfig', 'LandSlope', 'Condition1', 'Condition2', 'BldgType', 'HouseStyle', 'RoofStyle', 'RoofMatl', 'ExterQual', 'ExterCond', 'Foundation', 'Heating', 'HeatingQC', 'CentralAir', 'KitchenQual', 'Functional', 'PavedDrive', 'SaleType', 'SaleCondition']\n",
      "\n",
      "Categorical columns that will be dropped from the dataset: ['Neighborhood', 'Exterior2nd', 'Exterior1st']\n"
     ]
    }
   ],
   "source": [
    "# Columns that will be one-hot encoded\n",
    "low_cardinality_cols = [col for col in object_cols if X_train[col].nunique() < 10]\n",
    "\n",
    "# Columns that will be dropped from the dataset\n",
    "high_cardinality_cols = list(set(object_cols)-set(low_cardinality_cols))\n",
    "\n",
    "print('Categorical columns that will be one-hot encoded:', low_cardinality_cols)\n",
    "print('\\nCategorical columns that will be dropped from the dataset:', high_cardinality_cols)"
   ]
  },
  {
   "cell_type": "markdown",
   "id": "1c182fb7",
   "metadata": {
    "papermill": {
     "duration": 0.034797,
     "end_time": "2022-02-01T17:57:10.976632",
     "exception": false,
     "start_time": "2022-02-01T17:57:10.941835",
     "status": "completed"
    },
    "tags": []
   },
   "source": [
    "# Step 4: One-hot encoding\n",
    "\n",
    "Use the next code cell to one-hot encode the data in `X_train` and `X_valid`.  Set the preprocessed DataFrames to `OH_X_train` and `OH_X_valid`, respectively.  \n",
    "- The full list of categorical columns in the dataset can be found in the Python list `object_cols`.\n",
    "- You should only one-hot encode the categorical columns in `low_cardinality_cols`.  All other categorical columns should be dropped from the dataset. "
   ]
  },
  {
   "cell_type": "code",
   "execution_count": 21,
   "id": "b9eaee87",
   "metadata": {
    "execution": {
     "iopub.execute_input": "2022-02-01T17:57:11.062170Z",
     "iopub.status.busy": "2022-02-01T17:57:11.047811Z",
     "iopub.status.idle": "2022-02-01T17:57:11.086206Z",
     "shell.execute_reply": "2022-02-01T17:57:11.085723Z",
     "shell.execute_reply.started": "2022-02-01T17:56:06.358226Z"
    },
    "papermill": {
     "duration": 0.076231,
     "end_time": "2022-02-01T17:57:11.086325",
     "exception": false,
     "start_time": "2022-02-01T17:57:11.010094",
     "status": "completed"
    },
    "tags": []
   },
   "outputs": [
    {
     "data": {
      "application/javascript": [
       "parent.postMessage({\"jupyterEvent\": \"custom.exercise_interaction\", \"data\": {\"outcomeType\": 1, \"valueTowardsCompletion\": 0.5, \"interactionType\": 1, \"questionType\": 2, \"questionId\": \"4_OneHot\", \"learnToolsVersion\": \"0.3.4\", \"failureMessage\": \"\", \"exceptionClass\": \"\", \"trace\": \"\"}}, \"*\")"
      ],
      "text/plain": [
       "<IPython.core.display.Javascript object>"
      ]
     },
     "metadata": {},
     "output_type": "display_data"
    },
    {
     "data": {
      "text/markdown": [
       "<span style=\"color:#33cc33\">Correct</span>"
      ],
      "text/plain": [
       "Correct"
      ]
     },
     "metadata": {},
     "output_type": "display_data"
    }
   ],
   "source": [
    "from sklearn.preprocessing import OneHotEncoder\n",
    "# Apply one-hot encoder to each column with categorical data\n",
    "OH_encoder=OneHotEncoder(handle_unknown='ignore',sparse=False)\n",
    "OH_cols_train=pd.DataFrame(OH_encoder.fit_transform(X_train[low_cardinality_cols]))\n",
    "OH_cols_valid=pd.DataFrame(OH_encoder.transform(X_valid[low_cardinality_cols]))\n",
    "# One-hot encoding removed index; put it back\n",
    "OH_cols_train.index=X_train.index\n",
    "OH_cols_valid.index=X_valid.index\n",
    "# Remove categorical columns (will replace with one-hot encoding)\n",
    "num_X_train=X_train.drop(object_cols,axis=1)\n",
    "num_X_valid=X_valid.drop(object_cols,axis=1)\n",
    "# Use as many lines of code as you need!\n",
    "\n",
    "OH_X_train = pd.concat([num_X_train,OH_cols_train],axis=1)\n",
    "OH_X_valid =pd.concat([num_X_valid,OH_cols_valid],axis=1)\n",
    "\n",
    "# Check your answer\n",
    "step_4.check()"
   ]
  },
  {
   "cell_type": "code",
   "execution_count": 22,
   "id": "b8759375",
   "metadata": {
    "execution": {
     "iopub.execute_input": "2022-02-01T17:57:11.154942Z",
     "iopub.status.busy": "2022-02-01T17:57:11.154152Z",
     "iopub.status.idle": "2022-02-01T17:57:11.157425Z",
     "shell.execute_reply": "2022-02-01T17:57:11.157780Z",
     "shell.execute_reply.started": "2022-02-01T17:56:12.051267Z"
    },
    "papermill": {
     "duration": 0.038693,
     "end_time": "2022-02-01T17:57:11.157926",
     "exception": false,
     "start_time": "2022-02-01T17:57:11.119233",
     "status": "completed"
    },
    "tags": []
   },
   "outputs": [],
   "source": [
    "# Lines below will give you a hint or solution code\n",
    "#step_4.hint()\n",
    "#step_4.solution()"
   ]
  },
  {
   "cell_type": "markdown",
   "id": "fb2f47ed",
   "metadata": {
    "papermill": {
     "duration": 0.032966,
     "end_time": "2022-02-01T17:57:11.223312",
     "exception": false,
     "start_time": "2022-02-01T17:57:11.190346",
     "status": "completed"
    },
    "tags": []
   },
   "source": [
    "Run the next code cell to get the MAE for this approach."
   ]
  },
  {
   "cell_type": "code",
   "execution_count": 23,
   "id": "67504540",
   "metadata": {
    "execution": {
     "iopub.execute_input": "2022-02-01T17:57:11.300665Z",
     "iopub.status.busy": "2022-02-01T17:57:11.299875Z",
     "iopub.status.idle": "2022-02-01T17:57:12.904158Z",
     "shell.execute_reply": "2022-02-01T17:57:12.904743Z",
     "shell.execute_reply.started": "2022-02-01T17:56:16.591923Z"
    },
    "papermill": {
     "duration": 1.647401,
     "end_time": "2022-02-01T17:57:12.904948",
     "exception": false,
     "start_time": "2022-02-01T17:57:11.257547",
     "status": "completed"
    },
    "tags": []
   },
   "outputs": [
    {
     "name": "stdout",
     "output_type": "stream",
     "text": [
      "MAE from Approach 3 (One-Hot Encoding):\n",
      "17525.345719178084\n"
     ]
    }
   ],
   "source": [
    "print(\"MAE from Approach 3 (One-Hot Encoding):\") \n",
    "print(score_dataset(OH_X_train, OH_X_valid, y_train, y_valid))"
   ]
  },
  {
   "cell_type": "markdown",
   "id": "5359d3e5",
   "metadata": {
    "papermill": {
     "duration": 0.033877,
     "end_time": "2022-02-01T17:57:12.973671",
     "exception": false,
     "start_time": "2022-02-01T17:57:12.939794",
     "status": "completed"
    },
    "tags": []
   },
   "source": [
    "# Generate test predictions and submit your results\n",
    "\n",
    "After you complete Step 4, if you'd like to use what you've learned to submit your results to the leaderboard, you'll need to preprocess the test data before generating predictions.\n",
    "\n",
    "**This step is completely optional, and you do not need to submit results to the leaderboard to successfully complete the exercise.**\n",
    "\n",
    "Check out the previous exercise if you need help with remembering how to [join the competition](https://www.kaggle.com/c/home-data-for-ml-course) or save your results to CSV.  Once you have generated a file with your results, follow the instructions below:\n",
    "1. Begin by clicking on the **Save Version** button in the top right corner of the window.  This will generate a pop-up window.  \n",
    "2. Ensure that the **Save and Run All** option is selected, and then click on the **Save** button.\n",
    "3. This generates a window in the bottom left corner of the notebook.  After it has finished running, click on the number to the right of the **Save Version** button.  This pulls up a list of versions on the right of the screen.  Click on the ellipsis **(...)** to the right of the most recent version, and select **Open in Viewer**.  This brings you into view mode of the same page. You will need to scroll down to get back to these instructions.\n",
    "4. Click on the **Output** tab on the right of the screen.  Then, click on the file you would like to submit, and click on the **Submit** button to submit your results to the leaderboard.\n",
    "\n",
    "You have now successfully submitted to the competition!\n",
    "\n",
    "If you want to keep working to improve your performance, select the **Edit** button in the top right of the screen. Then you can change your code and repeat the process. There's a lot of room to improve, and you will climb up the leaderboard as you work.\n"
   ]
  },
  {
   "cell_type": "code",
   "execution_count": 24,
   "id": "8eeb9055",
   "metadata": {
    "execution": {
     "iopub.execute_input": "2022-02-01T17:57:13.044638Z",
     "iopub.status.busy": "2022-02-01T17:57:13.043811Z",
     "iopub.status.idle": "2022-02-01T17:57:13.046296Z",
     "shell.execute_reply": "2022-02-01T17:57:13.045836Z"
    },
    "papermill": {
     "duration": 0.039361,
     "end_time": "2022-02-01T17:57:13.046401",
     "exception": false,
     "start_time": "2022-02-01T17:57:13.007040",
     "status": "completed"
    },
    "tags": []
   },
   "outputs": [],
   "source": [
    "# (Optional) Your code here"
   ]
  },
  {
   "cell_type": "markdown",
   "id": "1189e859",
   "metadata": {
    "papermill": {
     "duration": 0.032809,
     "end_time": "2022-02-01T17:57:13.112303",
     "exception": false,
     "start_time": "2022-02-01T17:57:13.079494",
     "status": "completed"
    },
    "tags": []
   },
   "source": [
    "# Keep going\n",
    "\n",
    "With missing value handling and categorical encoding, your modeling process is getting complex. This complexity gets worse when you want to save your model to use in the future. The key to managing this complexity is something called **pipelines**. \n",
    "\n",
    "**[Learn to use pipelines](https://www.kaggle.com/alexisbcook/pipelines)** to preprocess datasets with categorical variables, missing values and any other messiness your data throws at you."
   ]
  },
  {
   "cell_type": "markdown",
   "id": "319c9a3e",
   "metadata": {
    "papermill": {
     "duration": 0.033342,
     "end_time": "2022-02-01T17:57:13.178768",
     "exception": false,
     "start_time": "2022-02-01T17:57:13.145426",
     "status": "completed"
    },
    "tags": []
   },
   "source": [
    "---\n",
    "\n",
    "\n",
    "\n",
    "\n",
    "*Have questions or comments? Visit the [course discussion forum](https://www.kaggle.com/learn/intermediate-machine-learning/discussion) to chat with other learners.*"
   ]
  }
 ],
 "metadata": {
  "kernelspec": {
   "display_name": "Python 3",
   "language": "python",
   "name": "python3"
  },
  "language_info": {
   "codemirror_mode": {
    "name": "ipython",
    "version": 3
   },
   "file_extension": ".py",
   "mimetype": "text/x-python",
   "name": "python",
   "nbconvert_exporter": "python",
   "pygments_lexer": "ipython3",
   "version": "3.7.12"
  },
  "papermill": {
   "default_parameters": {},
   "duration": 17.140799,
   "end_time": "2022-02-01T17:57:13.721562",
   "environment_variables": {},
   "exception": null,
   "input_path": "__notebook__.ipynb",
   "output_path": "__notebook__.ipynb",
   "parameters": {},
   "start_time": "2022-02-01T17:56:56.580763",
   "version": "2.3.3"
  }
 },
 "nbformat": 4,
 "nbformat_minor": 5
}

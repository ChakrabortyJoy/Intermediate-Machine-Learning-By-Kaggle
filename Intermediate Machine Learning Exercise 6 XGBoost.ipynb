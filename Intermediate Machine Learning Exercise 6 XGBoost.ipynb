{
 "cells": [
  {
   "cell_type": "markdown",
   "id": "16b0aef7",
   "metadata": {
    "papermill": {
     "duration": 0.030515,
     "end_time": "2022-02-02T11:11:34.211935",
     "exception": false,
     "start_time": "2022-02-02T11:11:34.181420",
     "status": "completed"
    },
    "tags": []
   },
   "source": [
    "**This notebook is an exercise in the [Intermediate Machine Learning](https://www.kaggle.com/learn/intermediate-machine-learning) course.  You can reference the tutorial at [this link](https://www.kaggle.com/alexisbcook/xgboost).**\n",
    "\n",
    "---\n"
   ]
  },
  {
   "cell_type": "markdown",
   "id": "6ece7e29",
   "metadata": {
    "papermill": {
     "duration": 0.028997,
     "end_time": "2022-02-02T11:11:34.270957",
     "exception": false,
     "start_time": "2022-02-02T11:11:34.241960",
     "status": "completed"
    },
    "tags": []
   },
   "source": [
    "In this exercise, you will use your new knowledge to train a model with **gradient boosting**.\n",
    "\n",
    "# Setup\n",
    "\n",
    "The questions below will give you feedback on your work. Run the following cell to set up the feedback system."
   ]
  },
  {
   "cell_type": "code",
   "execution_count": 1,
   "id": "e74d0e1a",
   "metadata": {
    "execution": {
     "iopub.execute_input": "2022-02-02T11:11:34.338009Z",
     "iopub.status.busy": "2022-02-02T11:11:34.337247Z",
     "iopub.status.idle": "2022-02-02T11:11:39.961176Z",
     "shell.execute_reply": "2022-02-02T11:11:39.961815Z",
     "shell.execute_reply.started": "2022-02-02T10:46:06.497224Z"
    },
    "papermill": {
     "duration": 5.659224,
     "end_time": "2022-02-02T11:11:39.962104",
     "exception": false,
     "start_time": "2022-02-02T11:11:34.302880",
     "status": "completed"
    },
    "tags": []
   },
   "outputs": [
    {
     "name": "stdout",
     "output_type": "stream",
     "text": [
      "Setup Complete\n"
     ]
    }
   ],
   "source": [
    "# Set up code checking\n",
    "import os\n",
    "if not os.path.exists(\"../input/train.csv\"):\n",
    "    os.symlink(\"../input/home-data-for-ml-course/train.csv\", \"../input/train.csv\")  \n",
    "    os.symlink(\"../input/home-data-for-ml-course/test.csv\", \"../input/test.csv\") \n",
    "from learntools.core import binder\n",
    "binder.bind(globals())\n",
    "from learntools.ml_intermediate.ex6 import *\n",
    "print(\"Setup Complete\")"
   ]
  },
  {
   "cell_type": "markdown",
   "id": "b6a74b29",
   "metadata": {
    "papermill": {
     "duration": 0.017143,
     "end_time": "2022-02-02T11:11:39.996448",
     "exception": false,
     "start_time": "2022-02-02T11:11:39.979305",
     "status": "completed"
    },
    "tags": []
   },
   "source": [
    "You will work with the [Housing Prices Competition for Kaggle Learn Users](https://www.kaggle.com/c/home-data-for-ml-course) dataset from the previous exercise. \n",
    "\n",
    "![Ames Housing dataset image](https://i.imgur.com/lTJVG4e.png)\n",
    "\n",
    "Run the next code cell without changes to load the training and validation sets in `X_train`, `X_valid`, `y_train`, and `y_valid`.  The test set is loaded in `X_test`."
   ]
  },
  {
   "cell_type": "code",
   "execution_count": 2,
   "id": "25aed11c",
   "metadata": {
    "execution": {
     "iopub.execute_input": "2022-02-02T11:11:40.041797Z",
     "iopub.status.busy": "2022-02-02T11:11:40.040500Z",
     "iopub.status.idle": "2022-02-02T11:11:40.236765Z",
     "shell.execute_reply": "2022-02-02T11:11:40.236159Z",
     "shell.execute_reply.started": "2022-02-02T10:46:11.570677Z"
    },
    "papermill": {
     "duration": 0.2241,
     "end_time": "2022-02-02T11:11:40.236902",
     "exception": false,
     "start_time": "2022-02-02T11:11:40.012802",
     "status": "completed"
    },
    "tags": []
   },
   "outputs": [],
   "source": [
    "import pandas as pd\n",
    "from sklearn.model_selection import train_test_split\n",
    "\n",
    "# Read the data\n",
    "X = pd.read_csv('../input/train.csv', index_col='Id')\n",
    "X_test_full = pd.read_csv('../input/test.csv', index_col='Id')\n",
    "\n",
    "# Remove rows with missing target, separate target from predictors\n",
    "X.dropna(axis=0, subset=['SalePrice'], inplace=True)\n",
    "y = X.SalePrice              \n",
    "X.drop(['SalePrice'], axis=1, inplace=True)\n",
    "\n",
    "# Break off validation set from training data\n",
    "X_train_full, X_valid_full, y_train, y_valid = train_test_split(X, y, train_size=0.8, test_size=0.2,\n",
    "                                                                random_state=0)\n",
    "\n",
    "# \"Cardinality\" means the number of unique values in a column\n",
    "# Select categorical columns with relatively low cardinality (convenient but arbitrary)\n",
    "low_cardinality_cols = [cname for cname in X_train_full.columns if X_train_full[cname].nunique() < 10 and \n",
    "                        X_train_full[cname].dtype == \"object\"]\n",
    "\n",
    "# Select numeric columns\n",
    "numeric_cols = [cname for cname in X_train_full.columns if X_train_full[cname].dtype in ['int64', 'float64']]\n",
    "\n",
    "# Keep selected columns only\n",
    "my_cols = low_cardinality_cols + numeric_cols\n",
    "X_train = X_train_full[my_cols].copy()\n",
    "X_valid = X_valid_full[my_cols].copy()\n",
    "X_test = X_test_full[my_cols].copy()\n",
    "\n",
    "# One-hot encode the data (to shorten the code, we use pandas)\n",
    "X_train = pd.get_dummies(X_train)\n",
    "X_valid = pd.get_dummies(X_valid)\n",
    "X_test = pd.get_dummies(X_test)\n",
    "X_train, X_valid = X_train.align(X_valid, join='left', axis=1)\n",
    "X_train, X_test = X_train.align(X_test, join='left', axis=1)"
   ]
  },
  {
   "cell_type": "markdown",
   "id": "93fd9ca4",
   "metadata": {
    "papermill": {
     "duration": 0.015675,
     "end_time": "2022-02-02T11:11:40.268985",
     "exception": false,
     "start_time": "2022-02-02T11:11:40.253310",
     "status": "completed"
    },
    "tags": []
   },
   "source": [
    "# Step 1: Build model\n",
    "\n",
    "### Part A\n",
    "\n",
    "In this step, you'll build and train your first model with gradient boosting.\n",
    "\n",
    "- Begin by setting `my_model_1` to an XGBoost model.  Use the [XGBRegressor](https://xgboost.readthedocs.io/en/latest/python/python_api.html#xgboost.XGBRegressor) class, and set the random seed to 0 (`random_state=0`).  **Leave all other parameters as default.**\n",
    "- Then, fit the model to the training data in `X_train` and `y_train`."
   ]
  },
  {
   "cell_type": "code",
   "execution_count": 3,
   "id": "1c281040",
   "metadata": {
    "execution": {
     "iopub.execute_input": "2022-02-02T11:11:40.312653Z",
     "iopub.status.busy": "2022-02-02T11:11:40.306107Z",
     "iopub.status.idle": "2022-02-02T11:11:41.523904Z",
     "shell.execute_reply": "2022-02-02T11:11:41.523179Z",
     "shell.execute_reply.started": "2022-02-02T10:47:53.621685Z"
    },
    "papermill": {
     "duration": 1.238827,
     "end_time": "2022-02-02T11:11:41.524047",
     "exception": false,
     "start_time": "2022-02-02T11:11:40.285220",
     "status": "completed"
    },
    "tags": []
   },
   "outputs": [
    {
     "data": {
      "application/javascript": [
       "parent.postMessage({\"jupyterEvent\": \"custom.exercise_interaction\", \"data\": {\"outcomeType\": 1, \"valueTowardsCompletion\": 0.5, \"interactionType\": 1, \"questionType\": 2, \"questionId\": \"1.1_Model1A\", \"learnToolsVersion\": \"0.3.4\", \"failureMessage\": \"\", \"exceptionClass\": \"\", \"trace\": \"\"}}, \"*\")"
      ],
      "text/plain": [
       "<IPython.core.display.Javascript object>"
      ]
     },
     "metadata": {},
     "output_type": "display_data"
    },
    {
     "data": {
      "text/markdown": [
       "<span style=\"color:#33cc33\">Correct</span>"
      ],
      "text/plain": [
       "Correct"
      ]
     },
     "metadata": {},
     "output_type": "display_data"
    }
   ],
   "source": [
    "from xgboost import XGBRegressor\n",
    "\n",
    "# Define the model\n",
    "my_model_1 = XGBRegressor()\n",
    "\n",
    "# Fit the model\n",
    "my_model_1.fit(X_train,y_train)\n",
    "\n",
    "# Check your answer\n",
    "step_1.a.check()"
   ]
  },
  {
   "cell_type": "code",
   "execution_count": 4,
   "id": "ace810d2",
   "metadata": {
    "execution": {
     "iopub.execute_input": "2022-02-02T11:11:41.563947Z",
     "iopub.status.busy": "2022-02-02T11:11:41.562896Z",
     "iopub.status.idle": "2022-02-02T11:11:41.566020Z",
     "shell.execute_reply": "2022-02-02T11:11:41.565449Z"
    },
    "papermill": {
     "duration": 0.024314,
     "end_time": "2022-02-02T11:11:41.566157",
     "exception": false,
     "start_time": "2022-02-02T11:11:41.541843",
     "status": "completed"
    },
    "tags": []
   },
   "outputs": [],
   "source": [
    "# Lines below will give you a hint or solution code\n",
    "#step_1.a.hint()\n",
    "#step_1.a.solution()"
   ]
  },
  {
   "cell_type": "markdown",
   "id": "ea894931",
   "metadata": {
    "papermill": {
     "duration": 0.017315,
     "end_time": "2022-02-02T11:11:41.600713",
     "exception": false,
     "start_time": "2022-02-02T11:11:41.583398",
     "status": "completed"
    },
    "tags": []
   },
   "source": [
    "### Part B\n",
    "\n",
    "Set `predictions_1` to the model's predictions for the validation data.  Recall that the validation features are stored in `X_valid`."
   ]
  },
  {
   "cell_type": "code",
   "execution_count": 5,
   "id": "b27a1691",
   "metadata": {
    "execution": {
     "iopub.execute_input": "2022-02-02T11:11:41.640480Z",
     "iopub.status.busy": "2022-02-02T11:11:41.639811Z",
     "iopub.status.idle": "2022-02-02T11:11:41.658171Z",
     "shell.execute_reply": "2022-02-02T11:11:41.657567Z",
     "shell.execute_reply.started": "2022-02-02T10:49:32.488744Z"
    },
    "papermill": {
     "duration": 0.040301,
     "end_time": "2022-02-02T11:11:41.658301",
     "exception": false,
     "start_time": "2022-02-02T11:11:41.618000",
     "status": "completed"
    },
    "tags": []
   },
   "outputs": [
    {
     "data": {
      "application/javascript": [
       "parent.postMessage({\"jupyterEvent\": \"custom.exercise_interaction\", \"data\": {\"outcomeType\": 1, \"valueTowardsCompletion\": 0.5, \"interactionType\": 1, \"questionType\": 2, \"questionId\": \"1.2_Model1B\", \"learnToolsVersion\": \"0.3.4\", \"failureMessage\": \"\", \"exceptionClass\": \"\", \"trace\": \"\"}}, \"*\")"
      ],
      "text/plain": [
       "<IPython.core.display.Javascript object>"
      ]
     },
     "metadata": {},
     "output_type": "display_data"
    },
    {
     "data": {
      "text/markdown": [
       "<span style=\"color:#33cc33\">Correct</span>"
      ],
      "text/plain": [
       "Correct"
      ]
     },
     "metadata": {},
     "output_type": "display_data"
    }
   ],
   "source": [
    "from sklearn.metrics import mean_absolute_error\n",
    "\n",
    "# Get predictions\n",
    "predictions_1 = my_model_1.predict(X_valid)\n",
    "\n",
    "# Check your answer\n",
    "step_1.b.check()"
   ]
  },
  {
   "cell_type": "code",
   "execution_count": 6,
   "id": "7a596910",
   "metadata": {
    "execution": {
     "iopub.execute_input": "2022-02-02T11:11:41.698810Z",
     "iopub.status.busy": "2022-02-02T11:11:41.697777Z",
     "iopub.status.idle": "2022-02-02T11:11:41.701966Z",
     "shell.execute_reply": "2022-02-02T11:11:41.701387Z"
    },
    "papermill": {
     "duration": 0.025367,
     "end_time": "2022-02-02T11:11:41.702089",
     "exception": false,
     "start_time": "2022-02-02T11:11:41.676722",
     "status": "completed"
    },
    "tags": []
   },
   "outputs": [],
   "source": [
    "# Lines below will give you a hint or solution code\n",
    "#step_1.b.hint()\n",
    "#step_1.b.solution()"
   ]
  },
  {
   "cell_type": "markdown",
   "id": "1efce666",
   "metadata": {
    "papermill": {
     "duration": 0.018355,
     "end_time": "2022-02-02T11:11:41.738857",
     "exception": false,
     "start_time": "2022-02-02T11:11:41.720502",
     "status": "completed"
    },
    "tags": []
   },
   "source": [
    "### Part C\n",
    "\n",
    "Finally, use the `mean_absolute_error()` function to calculate the mean absolute error (MAE) corresponding to the predictions for the validation set.  Recall that the labels for the validation data are stored in `y_valid`."
   ]
  },
  {
   "cell_type": "code",
   "execution_count": 7,
   "id": "91353e67",
   "metadata": {
    "execution": {
     "iopub.execute_input": "2022-02-02T11:11:41.783448Z",
     "iopub.status.busy": "2022-02-02T11:11:41.782359Z",
     "iopub.status.idle": "2022-02-02T11:11:41.789319Z",
     "shell.execute_reply": "2022-02-02T11:11:41.789847Z",
     "shell.execute_reply.started": "2022-02-02T10:51:00.062537Z"
    },
    "papermill": {
     "duration": 0.032238,
     "end_time": "2022-02-02T11:11:41.789984",
     "exception": false,
     "start_time": "2022-02-02T11:11:41.757746",
     "status": "completed"
    },
    "tags": []
   },
   "outputs": [
    {
     "name": "stdout",
     "output_type": "stream",
     "text": [
      "Mean Absolute Error: 17662.736729452055\n"
     ]
    },
    {
     "data": {
      "application/javascript": [
       "parent.postMessage({\"jupyterEvent\": \"custom.exercise_interaction\", \"data\": {\"outcomeType\": 1, \"valueTowardsCompletion\": 0.5, \"interactionType\": 1, \"questionType\": 2, \"questionId\": \"1.3_Model1C\", \"learnToolsVersion\": \"0.3.4\", \"failureMessage\": \"\", \"exceptionClass\": \"\", \"trace\": \"\"}}, \"*\")"
      ],
      "text/plain": [
       "<IPython.core.display.Javascript object>"
      ]
     },
     "metadata": {},
     "output_type": "display_data"
    },
    {
     "data": {
      "text/markdown": [
       "<span style=\"color:#33cc33\">Correct</span>"
      ],
      "text/plain": [
       "Correct"
      ]
     },
     "metadata": {},
     "output_type": "display_data"
    }
   ],
   "source": [
    "# Calculate MAE\n",
    "mae_1 = mean_absolute_error(predictions_1,y_valid)\n",
    "\n",
    "# Uncomment to print MAE\n",
    "print(\"Mean Absolute Error:\" , mae_1)\n",
    "\n",
    "# Check your answer\n",
    "step_1.c.check()"
   ]
  },
  {
   "cell_type": "code",
   "execution_count": 8,
   "id": "c98bbca4",
   "metadata": {
    "execution": {
     "iopub.execute_input": "2022-02-02T11:11:41.847727Z",
     "iopub.status.busy": "2022-02-02T11:11:41.846666Z",
     "iopub.status.idle": "2022-02-02T11:11:41.849857Z",
     "shell.execute_reply": "2022-02-02T11:11:41.849279Z",
     "shell.execute_reply.started": "2022-02-02T10:51:04.909368Z"
    },
    "papermill": {
     "duration": 0.027097,
     "end_time": "2022-02-02T11:11:41.849982",
     "exception": false,
     "start_time": "2022-02-02T11:11:41.822885",
     "status": "completed"
    },
    "tags": []
   },
   "outputs": [],
   "source": [
    "# Lines below will give you a hint or solution code\n",
    "#step_1.c.hint()\n",
    "#step_1.c.solution()"
   ]
  },
  {
   "cell_type": "markdown",
   "id": "89311b46",
   "metadata": {
    "papermill": {
     "duration": 0.019357,
     "end_time": "2022-02-02T11:11:41.888755",
     "exception": false,
     "start_time": "2022-02-02T11:11:41.869398",
     "status": "completed"
    },
    "tags": []
   },
   "source": [
    "# Step 2: Improve the model\n",
    "\n",
    "Now that you've trained a default model as baseline, it's time to tinker with the parameters, to see if you can get better performance!\n",
    "- Begin by setting `my_model_2` to an XGBoost model, using the [XGBRegressor](https://xgboost.readthedocs.io/en/latest/python/python_api.html#xgboost.XGBRegressor) class.  Use what you learned in the previous tutorial to figure out how to change the default parameters (like `n_estimators` and `learning_rate`) to get better results.\n",
    "- Then, fit the model to the training data in `X_train` and `y_train`.\n",
    "- Set `predictions_2` to the model's predictions for the validation data.  Recall that the validation features are stored in `X_valid`.\n",
    "- Finally, use the `mean_absolute_error()` function to calculate the mean absolute error (MAE) corresponding to the predictions on the validation set.  Recall that the labels for the validation data are stored in `y_valid`.\n",
    "\n",
    "In order for this step to be marked correct, your model in `my_model_2` must attain lower MAE than the model in `my_model_1`. "
   ]
  },
  {
   "cell_type": "code",
   "execution_count": 9,
   "id": "b3ae8a96",
   "metadata": {
    "execution": {
     "iopub.execute_input": "2022-02-02T11:11:41.946032Z",
     "iopub.status.busy": "2022-02-02T11:11:41.944954Z",
     "iopub.status.idle": "2022-02-02T11:11:54.139922Z",
     "shell.execute_reply": "2022-02-02T11:11:54.140432Z",
     "shell.execute_reply.started": "2022-02-02T11:00:12.788413Z"
    },
    "papermill": {
     "duration": 12.232059,
     "end_time": "2022-02-02T11:11:54.140612",
     "exception": false,
     "start_time": "2022-02-02T11:11:41.908553",
     "status": "completed"
    },
    "tags": []
   },
   "outputs": [
    {
     "name": "stdout",
     "output_type": "stream",
     "text": [
      "Mean Absolute Error: 16688.691513270547\n"
     ]
    },
    {
     "data": {
      "application/javascript": [
       "parent.postMessage({\"jupyterEvent\": \"custom.exercise_interaction\", \"data\": {\"outcomeType\": 1, \"valueTowardsCompletion\": 0.5, \"interactionType\": 1, \"questionType\": 2, \"questionId\": \"2_Model2\", \"learnToolsVersion\": \"0.3.4\", \"failureMessage\": \"\", \"exceptionClass\": \"\", \"trace\": \"\"}}, \"*\")"
      ],
      "text/plain": [
       "<IPython.core.display.Javascript object>"
      ]
     },
     "metadata": {},
     "output_type": "display_data"
    },
    {
     "data": {
      "text/markdown": [
       "<span style=\"color:#33cc33\">Correct</span>"
      ],
      "text/plain": [
       "Correct"
      ]
     },
     "metadata": {},
     "output_type": "display_data"
    }
   ],
   "source": [
    "# Define the model\n",
    "my_model_2 = XGBRegressor(n_estimators=1000,learning_rate=0.05)\n",
    "\n",
    "# Fit the model\n",
    "my_model_2.fit(X_train,y_train)\n",
    "\n",
    "# Get predictions\n",
    "predictions_2 = my_model_2.predict(X_valid)\n",
    "\n",
    "# Calculate MAE\n",
    "mae_2 = mean_absolute_error(predictions_2,y_valid)\n",
    "\n",
    "# Uncomment to print MAE\n",
    "print(\"Mean Absolute Error:\" , mae_2)\n",
    "\n",
    "# Check your answer\n",
    "step_2.check()"
   ]
  },
  {
   "cell_type": "code",
   "execution_count": 10,
   "id": "bc6f8e9a",
   "metadata": {
    "execution": {
     "iopub.execute_input": "2022-02-02T11:11:54.190160Z",
     "iopub.status.busy": "2022-02-02T11:11:54.189222Z",
     "iopub.status.idle": "2022-02-02T11:11:54.193106Z",
     "shell.execute_reply": "2022-02-02T11:11:54.192581Z",
     "shell.execute_reply.started": "2022-02-02T11:00:29.035891Z"
    },
    "papermill": {
     "duration": 0.02926,
     "end_time": "2022-02-02T11:11:54.193234",
     "exception": false,
     "start_time": "2022-02-02T11:11:54.163974",
     "status": "completed"
    },
    "tags": []
   },
   "outputs": [],
   "source": [
    "# Lines below will give you a hint or solution code\n",
    "#step_2.hint()\n",
    "#step_2.solution()"
   ]
  },
  {
   "cell_type": "markdown",
   "id": "dcb83a3e",
   "metadata": {
    "papermill": {
     "duration": 0.021866,
     "end_time": "2022-02-02T11:11:54.236436",
     "exception": false,
     "start_time": "2022-02-02T11:11:54.214570",
     "status": "completed"
    },
    "tags": []
   },
   "source": [
    "# Step 3: Break the model\n",
    "\n",
    "In this step, you will create a model that performs worse than the original model in Step 1.  This will help you to develop your intuition for how to set parameters.  You might even find that you accidentally get better performance, which is ultimately a nice problem to have and a valuable learning experience!\n",
    "- Begin by setting `my_model_3` to an XGBoost model, using the [XGBRegressor](https://xgboost.readthedocs.io/en/latest/python/python_api.html#xgboost.XGBRegressor) class.  Use what you learned in the previous tutorial to figure out how to change the default parameters (like `n_estimators` and `learning_rate`) to design a model to get high MAE.\n",
    "- Then, fit the model to the training data in `X_train` and `y_train`.\n",
    "- Set `predictions_3` to the model's predictions for the validation data.  Recall that the validation features are stored in `X_valid`.\n",
    "- Finally, use the `mean_absolute_error()` function to calculate the mean absolute error (MAE) corresponding to the predictions on the validation set.  Recall that the labels for the validation data are stored in `y_valid`.\n",
    "\n",
    "In order for this step to be marked correct, your model in `my_model_3` must attain higher MAE than the model in `my_model_1`. "
   ]
  },
  {
   "cell_type": "code",
   "execution_count": 11,
   "id": "dc9d2a6a",
   "metadata": {
    "execution": {
     "iopub.execute_input": "2022-02-02T11:11:54.296802Z",
     "iopub.status.busy": "2022-02-02T11:11:54.295763Z",
     "iopub.status.idle": "2022-02-02T11:11:54.340922Z",
     "shell.execute_reply": "2022-02-02T11:11:54.341921Z",
     "shell.execute_reply.started": "2022-02-02T11:10:57.467831Z"
    },
    "papermill": {
     "duration": 0.084371,
     "end_time": "2022-02-02T11:11:54.342075",
     "exception": false,
     "start_time": "2022-02-02T11:11:54.257704",
     "status": "completed"
    },
    "tags": []
   },
   "outputs": [
    {
     "name": "stdout",
     "output_type": "stream",
     "text": [
      "Mean Absolute Error: 127895.0828807256\n"
     ]
    },
    {
     "data": {
      "application/javascript": [
       "parent.postMessage({\"jupyterEvent\": \"custom.exercise_interaction\", \"data\": {\"outcomeType\": 1, \"valueTowardsCompletion\": 0.5, \"interactionType\": 1, \"questionType\": 2, \"questionId\": \"3_Model3\", \"learnToolsVersion\": \"0.3.4\", \"failureMessage\": \"\", \"exceptionClass\": \"\", \"trace\": \"\"}}, \"*\")"
      ],
      "text/plain": [
       "<IPython.core.display.Javascript object>"
      ]
     },
     "metadata": {},
     "output_type": "display_data"
    },
    {
     "data": {
      "text/markdown": [
       "<span style=\"color:#33cc33\">Correct</span>"
      ],
      "text/plain": [
       "Correct"
      ]
     },
     "metadata": {},
     "output_type": "display_data"
    }
   ],
   "source": [
    "# Define the model\n",
    "my_model_3 = XGBRegressor(n_estimators=1)\n",
    "\n",
    "# Fit the model\n",
    "my_model_3.fit(X_train,y_train)\n",
    "\n",
    "# Get predictions\n",
    "predictions_3 = my_model_3.predict(X_valid)\n",
    "\n",
    "# Calculate MAE\n",
    "mae_3 = mean_absolute_error(predictions_3,y_valid)\n",
    "\n",
    "# Uncomment to print MAE\n",
    "print(\"Mean Absolute Error:\" , mae_3)\n",
    "\n",
    "# Check your answer\n",
    "step_3.check()"
   ]
  },
  {
   "cell_type": "code",
   "execution_count": 12,
   "id": "4b3d5c15",
   "metadata": {
    "execution": {
     "iopub.execute_input": "2022-02-02T11:11:54.393915Z",
     "iopub.status.busy": "2022-02-02T11:11:54.392913Z",
     "iopub.status.idle": "2022-02-02T11:11:54.397142Z",
     "shell.execute_reply": "2022-02-02T11:11:54.396403Z",
     "shell.execute_reply.started": "2022-02-02T11:11:02.392122Z"
    },
    "papermill": {
     "duration": 0.031311,
     "end_time": "2022-02-02T11:11:54.397282",
     "exception": false,
     "start_time": "2022-02-02T11:11:54.365971",
     "status": "completed"
    },
    "tags": []
   },
   "outputs": [],
   "source": [
    "# Lines below will give you a hint or solution code\n",
    "#step_3.hint()\n",
    "#step_3.solution()"
   ]
  },
  {
   "cell_type": "markdown",
   "id": "0dae3d95",
   "metadata": {
    "papermill": {
     "duration": 0.023102,
     "end_time": "2022-02-02T11:11:54.443595",
     "exception": false,
     "start_time": "2022-02-02T11:11:54.420493",
     "status": "completed"
    },
    "tags": []
   },
   "source": [
    "# Keep going\n",
    "\n",
    "Continue to learn about **[data leakage](https://www.kaggle.com/alexisbcook/data-leakage)**.  This is an important issue for a data scientist to understand, and it has the potential to ruin your models in subtle and dangerous ways!"
   ]
  },
  {
   "cell_type": "markdown",
   "id": "afb0cdcc",
   "metadata": {
    "papermill": {
     "duration": 0.02374,
     "end_time": "2022-02-02T11:11:54.490961",
     "exception": false,
     "start_time": "2022-02-02T11:11:54.467221",
     "status": "completed"
    },
    "tags": []
   },
   "source": [
    "---\n",
    "\n",
    "\n",
    "\n",
    "\n",
    "*Have questions or comments? Visit the [course discussion forum](https://www.kaggle.com/learn/intermediate-machine-learning/discussion) to chat with other learners.*"
   ]
  }
 ],
 "metadata": {
  "kernelspec": {
   "display_name": "Python 3",
   "language": "python",
   "name": "python3"
  },
  "language_info": {
   "codemirror_mode": {
    "name": "ipython",
    "version": 3
   },
   "file_extension": ".py",
   "mimetype": "text/x-python",
   "name": "python",
   "nbconvert_exporter": "python",
   "pygments_lexer": "ipython3",
   "version": "3.7.12"
  },
  "papermill": {
   "default_parameters": {},
   "duration": 31.91705,
   "end_time": "2022-02-02T11:11:55.726422",
   "environment_variables": {},
   "exception": null,
   "input_path": "__notebook__.ipynb",
   "output_path": "__notebook__.ipynb",
   "parameters": {},
   "start_time": "2022-02-02T11:11:23.809372",
   "version": "2.3.3"
  }
 },
 "nbformat": 4,
 "nbformat_minor": 5
}

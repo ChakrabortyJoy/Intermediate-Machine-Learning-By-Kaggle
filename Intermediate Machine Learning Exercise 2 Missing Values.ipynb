{
 "cells": [
  {
   "cell_type": "markdown",
   "id": "646a98b7",
   "metadata": {
    "papermill": {
     "duration": 0.028617,
     "end_time": "2022-02-01T10:55:27.881591",
     "exception": false,
     "start_time": "2022-02-01T10:55:27.852974",
     "status": "completed"
    },
    "tags": []
   },
   "source": [
    "**This notebook is an exercise in the [Intermediate Machine Learning](https://www.kaggle.com/learn/intermediate-machine-learning) course.  You can reference the tutorial at [this link](https://www.kaggle.com/alexisbcook/missing-values).**\n",
    "\n",
    "---\n"
   ]
  },
  {
   "cell_type": "markdown",
   "id": "d3e013a9",
   "metadata": {
    "papermill": {
     "duration": 0.023256,
     "end_time": "2022-02-01T10:55:27.928264",
     "exception": false,
     "start_time": "2022-02-01T10:55:27.905008",
     "status": "completed"
    },
    "tags": []
   },
   "source": [
    "Now it's your turn to test your new knowledge of **missing values** handling. You'll probably find it makes a big difference.\n",
    "\n",
    "# Setup\n",
    "\n",
    "The questions will give you feedback on your work. Run the following cell to set up the feedback system."
   ]
  },
  {
   "cell_type": "code",
   "execution_count": 1,
   "id": "4ea83bf7",
   "metadata": {
    "execution": {
     "iopub.execute_input": "2022-02-01T10:55:27.986570Z",
     "iopub.status.busy": "2022-02-01T10:55:27.985859Z",
     "iopub.status.idle": "2022-02-01T10:55:28.010455Z",
     "shell.execute_reply": "2022-02-01T10:55:28.011042Z",
     "shell.execute_reply.started": "2022-02-01T10:21:02.325459Z"
    },
    "papermill": {
     "duration": 0.060059,
     "end_time": "2022-02-01T10:55:28.011309",
     "exception": false,
     "start_time": "2022-02-01T10:55:27.951250",
     "status": "completed"
    },
    "tags": []
   },
   "outputs": [
    {
     "name": "stdout",
     "output_type": "stream",
     "text": [
      "Setup Complete\n"
     ]
    }
   ],
   "source": [
    "# Set up code checking\n",
    "import os\n",
    "if not os.path.exists(\"../input/train.csv\"):\n",
    "    os.symlink(\"../input/home-data-for-ml-course/train.csv\", \"../input/train.csv\")  \n",
    "    os.symlink(\"../input/home-data-for-ml-course/test.csv\", \"../input/test.csv\") \n",
    "from learntools.core import binder\n",
    "binder.bind(globals())\n",
    "from learntools.ml_intermediate.ex2 import *\n",
    "print(\"Setup Complete\")"
   ]
  },
  {
   "cell_type": "markdown",
   "id": "464fb069",
   "metadata": {
    "papermill": {
     "duration": 0.022919,
     "end_time": "2022-02-01T10:55:28.058700",
     "exception": false,
     "start_time": "2022-02-01T10:55:28.035781",
     "status": "completed"
    },
    "tags": []
   },
   "source": [
    "In this exercise, you will work with data from the [Housing Prices Competition for Kaggle Learn Users](https://www.kaggle.com/c/home-data-for-ml-course). \n",
    "\n",
    "![Ames Housing dataset image](https://i.imgur.com/lTJVG4e.png)\n",
    "\n",
    "Run the next code cell without changes to load the training and validation sets in `X_train`, `X_valid`, `y_train`, and `y_valid`.  The test set is loaded in `X_test`."
   ]
  },
  {
   "cell_type": "code",
   "execution_count": 2,
   "id": "aecb4a34",
   "metadata": {
    "execution": {
     "iopub.execute_input": "2022-02-01T10:55:28.111192Z",
     "iopub.status.busy": "2022-02-01T10:55:28.110324Z",
     "iopub.status.idle": "2022-02-01T10:55:29.069526Z",
     "shell.execute_reply": "2022-02-01T10:55:29.069018Z",
     "shell.execute_reply.started": "2022-02-01T10:21:07.134544Z"
    },
    "papermill": {
     "duration": 0.987803,
     "end_time": "2022-02-01T10:55:29.069662",
     "exception": false,
     "start_time": "2022-02-01T10:55:28.081859",
     "status": "completed"
    },
    "tags": []
   },
   "outputs": [],
   "source": [
    "import pandas as pd\n",
    "from sklearn.model_selection import train_test_split\n",
    "\n",
    "# Read the data\n",
    "X_full = pd.read_csv('../input/train.csv', index_col='Id')\n",
    "X_test_full = pd.read_csv('../input/test.csv', index_col='Id')\n",
    "\n",
    "# Remove rows with missing target, separate target from predictors\n",
    "X_full.dropna(axis=0, subset=['SalePrice'], inplace=True)\n",
    "y = X_full.SalePrice\n",
    "X_full.drop(['SalePrice'], axis=1, inplace=True)\n",
    "\n",
    "# To keep things simple, we'll use only numerical predictors\n",
    "X = X_full.select_dtypes(exclude=['object'])\n",
    "X_test = X_test_full.select_dtypes(exclude=['object'])\n",
    "\n",
    "# Break off validation set from training data\n",
    "X_train, X_valid, y_train, y_valid = train_test_split(X, y, train_size=0.8, test_size=0.2,\n",
    "                                                      random_state=0)"
   ]
  },
  {
   "cell_type": "markdown",
   "id": "00ecdd6d",
   "metadata": {
    "papermill": {
     "duration": 0.024535,
     "end_time": "2022-02-01T10:55:29.117663",
     "exception": false,
     "start_time": "2022-02-01T10:55:29.093128",
     "status": "completed"
    },
    "tags": []
   },
   "source": [
    "Use the next code cell to print the first five rows of the data."
   ]
  },
  {
   "cell_type": "code",
   "execution_count": 3,
   "id": "2c955eda",
   "metadata": {
    "execution": {
     "iopub.execute_input": "2022-02-01T10:55:29.171590Z",
     "iopub.status.busy": "2022-02-01T10:55:29.170749Z",
     "iopub.status.idle": "2022-02-01T10:55:29.187458Z",
     "shell.execute_reply": "2022-02-01T10:55:29.187862Z",
     "shell.execute_reply.started": "2022-02-01T10:21:14.715231Z"
    },
    "papermill": {
     "duration": 0.046942,
     "end_time": "2022-02-01T10:55:29.187981",
     "exception": false,
     "start_time": "2022-02-01T10:55:29.141039",
     "status": "completed"
    },
    "tags": []
   },
   "outputs": [
    {
     "data": {
      "text/html": [
       "<div>\n",
       "<style scoped>\n",
       "    .dataframe tbody tr th:only-of-type {\n",
       "        vertical-align: middle;\n",
       "    }\n",
       "\n",
       "    .dataframe tbody tr th {\n",
       "        vertical-align: top;\n",
       "    }\n",
       "\n",
       "    .dataframe thead th {\n",
       "        text-align: right;\n",
       "    }\n",
       "</style>\n",
       "<table border=\"1\" class=\"dataframe\">\n",
       "  <thead>\n",
       "    <tr style=\"text-align: right;\">\n",
       "      <th></th>\n",
       "      <th>MSSubClass</th>\n",
       "      <th>LotFrontage</th>\n",
       "      <th>LotArea</th>\n",
       "      <th>OverallQual</th>\n",
       "      <th>OverallCond</th>\n",
       "      <th>YearBuilt</th>\n",
       "      <th>YearRemodAdd</th>\n",
       "      <th>MasVnrArea</th>\n",
       "      <th>BsmtFinSF1</th>\n",
       "      <th>BsmtFinSF2</th>\n",
       "      <th>...</th>\n",
       "      <th>GarageArea</th>\n",
       "      <th>WoodDeckSF</th>\n",
       "      <th>OpenPorchSF</th>\n",
       "      <th>EnclosedPorch</th>\n",
       "      <th>3SsnPorch</th>\n",
       "      <th>ScreenPorch</th>\n",
       "      <th>PoolArea</th>\n",
       "      <th>MiscVal</th>\n",
       "      <th>MoSold</th>\n",
       "      <th>YrSold</th>\n",
       "    </tr>\n",
       "    <tr>\n",
       "      <th>Id</th>\n",
       "      <th></th>\n",
       "      <th></th>\n",
       "      <th></th>\n",
       "      <th></th>\n",
       "      <th></th>\n",
       "      <th></th>\n",
       "      <th></th>\n",
       "      <th></th>\n",
       "      <th></th>\n",
       "      <th></th>\n",
       "      <th></th>\n",
       "      <th></th>\n",
       "      <th></th>\n",
       "      <th></th>\n",
       "      <th></th>\n",
       "      <th></th>\n",
       "      <th></th>\n",
       "      <th></th>\n",
       "      <th></th>\n",
       "      <th></th>\n",
       "      <th></th>\n",
       "    </tr>\n",
       "  </thead>\n",
       "  <tbody>\n",
       "    <tr>\n",
       "      <th>619</th>\n",
       "      <td>20</td>\n",
       "      <td>90.0</td>\n",
       "      <td>11694</td>\n",
       "      <td>9</td>\n",
       "      <td>5</td>\n",
       "      <td>2007</td>\n",
       "      <td>2007</td>\n",
       "      <td>452.0</td>\n",
       "      <td>48</td>\n",
       "      <td>0</td>\n",
       "      <td>...</td>\n",
       "      <td>774</td>\n",
       "      <td>0</td>\n",
       "      <td>108</td>\n",
       "      <td>0</td>\n",
       "      <td>0</td>\n",
       "      <td>260</td>\n",
       "      <td>0</td>\n",
       "      <td>0</td>\n",
       "      <td>7</td>\n",
       "      <td>2007</td>\n",
       "    </tr>\n",
       "    <tr>\n",
       "      <th>871</th>\n",
       "      <td>20</td>\n",
       "      <td>60.0</td>\n",
       "      <td>6600</td>\n",
       "      <td>5</td>\n",
       "      <td>5</td>\n",
       "      <td>1962</td>\n",
       "      <td>1962</td>\n",
       "      <td>0.0</td>\n",
       "      <td>0</td>\n",
       "      <td>0</td>\n",
       "      <td>...</td>\n",
       "      <td>308</td>\n",
       "      <td>0</td>\n",
       "      <td>0</td>\n",
       "      <td>0</td>\n",
       "      <td>0</td>\n",
       "      <td>0</td>\n",
       "      <td>0</td>\n",
       "      <td>0</td>\n",
       "      <td>8</td>\n",
       "      <td>2009</td>\n",
       "    </tr>\n",
       "    <tr>\n",
       "      <th>93</th>\n",
       "      <td>30</td>\n",
       "      <td>80.0</td>\n",
       "      <td>13360</td>\n",
       "      <td>5</td>\n",
       "      <td>7</td>\n",
       "      <td>1921</td>\n",
       "      <td>2006</td>\n",
       "      <td>0.0</td>\n",
       "      <td>713</td>\n",
       "      <td>0</td>\n",
       "      <td>...</td>\n",
       "      <td>432</td>\n",
       "      <td>0</td>\n",
       "      <td>0</td>\n",
       "      <td>44</td>\n",
       "      <td>0</td>\n",
       "      <td>0</td>\n",
       "      <td>0</td>\n",
       "      <td>0</td>\n",
       "      <td>8</td>\n",
       "      <td>2009</td>\n",
       "    </tr>\n",
       "    <tr>\n",
       "      <th>818</th>\n",
       "      <td>20</td>\n",
       "      <td>NaN</td>\n",
       "      <td>13265</td>\n",
       "      <td>8</td>\n",
       "      <td>5</td>\n",
       "      <td>2002</td>\n",
       "      <td>2002</td>\n",
       "      <td>148.0</td>\n",
       "      <td>1218</td>\n",
       "      <td>0</td>\n",
       "      <td>...</td>\n",
       "      <td>857</td>\n",
       "      <td>150</td>\n",
       "      <td>59</td>\n",
       "      <td>0</td>\n",
       "      <td>0</td>\n",
       "      <td>0</td>\n",
       "      <td>0</td>\n",
       "      <td>0</td>\n",
       "      <td>7</td>\n",
       "      <td>2008</td>\n",
       "    </tr>\n",
       "    <tr>\n",
       "      <th>303</th>\n",
       "      <td>20</td>\n",
       "      <td>118.0</td>\n",
       "      <td>13704</td>\n",
       "      <td>7</td>\n",
       "      <td>5</td>\n",
       "      <td>2001</td>\n",
       "      <td>2002</td>\n",
       "      <td>150.0</td>\n",
       "      <td>0</td>\n",
       "      <td>0</td>\n",
       "      <td>...</td>\n",
       "      <td>843</td>\n",
       "      <td>468</td>\n",
       "      <td>81</td>\n",
       "      <td>0</td>\n",
       "      <td>0</td>\n",
       "      <td>0</td>\n",
       "      <td>0</td>\n",
       "      <td>0</td>\n",
       "      <td>1</td>\n",
       "      <td>2006</td>\n",
       "    </tr>\n",
       "  </tbody>\n",
       "</table>\n",
       "<p>5 rows × 36 columns</p>\n",
       "</div>"
      ],
      "text/plain": [
       "     MSSubClass  LotFrontage  LotArea  OverallQual  OverallCond  YearBuilt  \\\n",
       "Id                                                                           \n",
       "619          20         90.0    11694            9            5       2007   \n",
       "871          20         60.0     6600            5            5       1962   \n",
       "93           30         80.0    13360            5            7       1921   \n",
       "818          20          NaN    13265            8            5       2002   \n",
       "303          20        118.0    13704            7            5       2001   \n",
       "\n",
       "     YearRemodAdd  MasVnrArea  BsmtFinSF1  BsmtFinSF2  ...  GarageArea  \\\n",
       "Id                                                     ...               \n",
       "619          2007       452.0          48           0  ...         774   \n",
       "871          1962         0.0           0           0  ...         308   \n",
       "93           2006         0.0         713           0  ...         432   \n",
       "818          2002       148.0        1218           0  ...         857   \n",
       "303          2002       150.0           0           0  ...         843   \n",
       "\n",
       "     WoodDeckSF  OpenPorchSF  EnclosedPorch  3SsnPorch  ScreenPorch  PoolArea  \\\n",
       "Id                                                                              \n",
       "619           0          108              0          0          260         0   \n",
       "871           0            0              0          0            0         0   \n",
       "93            0            0             44          0            0         0   \n",
       "818         150           59              0          0            0         0   \n",
       "303         468           81              0          0            0         0   \n",
       "\n",
       "     MiscVal  MoSold  YrSold  \n",
       "Id                            \n",
       "619        0       7    2007  \n",
       "871        0       8    2009  \n",
       "93         0       8    2009  \n",
       "818        0       7    2008  \n",
       "303        0       1    2006  \n",
       "\n",
       "[5 rows x 36 columns]"
      ]
     },
     "execution_count": 3,
     "metadata": {},
     "output_type": "execute_result"
    }
   ],
   "source": [
    "X_train.head()"
   ]
  },
  {
   "cell_type": "markdown",
   "id": "5f6b4cd3",
   "metadata": {
    "papermill": {
     "duration": 0.023687,
     "end_time": "2022-02-01T10:55:29.235303",
     "exception": false,
     "start_time": "2022-02-01T10:55:29.211616",
     "status": "completed"
    },
    "tags": []
   },
   "source": [
    "You can already see a few missing values in the first several rows.  In the next step, you'll obtain a more comprehensive understanding of the missing values in the dataset.\n",
    "\n",
    "# Step 1: Preliminary investigation\n",
    "\n",
    "Run the code cell below without changes."
   ]
  },
  {
   "cell_type": "code",
   "execution_count": 4,
   "id": "8e3b68fa",
   "metadata": {
    "execution": {
     "iopub.execute_input": "2022-02-01T10:55:29.288029Z",
     "iopub.status.busy": "2022-02-01T10:55:29.287218Z",
     "iopub.status.idle": "2022-02-01T10:55:29.291815Z",
     "shell.execute_reply": "2022-02-01T10:55:29.292246Z",
     "shell.execute_reply.started": "2022-02-01T10:21:18.733455Z"
    },
    "papermill": {
     "duration": 0.033268,
     "end_time": "2022-02-01T10:55:29.292373",
     "exception": false,
     "start_time": "2022-02-01T10:55:29.259105",
     "status": "completed"
    },
    "tags": []
   },
   "outputs": [
    {
     "name": "stdout",
     "output_type": "stream",
     "text": [
      "(1168, 36)\n",
      "LotFrontage    212\n",
      "MasVnrArea       6\n",
      "GarageYrBlt     58\n",
      "dtype: int64\n"
     ]
    }
   ],
   "source": [
    "# Shape of training data (num_rows, num_columns)\n",
    "print(X_train.shape)\n",
    "\n",
    "# Number of missing values in each column of training data\n",
    "missing_val_count_by_column = (X_train.isnull().sum())\n",
    "print(missing_val_count_by_column[missing_val_count_by_column > 0])"
   ]
  },
  {
   "cell_type": "markdown",
   "id": "1757067a",
   "metadata": {
    "papermill": {
     "duration": 0.024046,
     "end_time": "2022-02-01T10:55:29.340449",
     "exception": false,
     "start_time": "2022-02-01T10:55:29.316403",
     "status": "completed"
    },
    "tags": []
   },
   "source": [
    "### Part A\n",
    "\n",
    "Use the above output to answer the questions below."
   ]
  },
  {
   "cell_type": "code",
   "execution_count": 5,
   "id": "391f7bce",
   "metadata": {
    "execution": {
     "iopub.execute_input": "2022-02-01T10:55:29.393782Z",
     "iopub.status.busy": "2022-02-01T10:55:29.392952Z",
     "iopub.status.idle": "2022-02-01T10:55:29.397901Z",
     "shell.execute_reply": "2022-02-01T10:55:29.397475Z",
     "shell.execute_reply.started": "2022-02-01T10:23:10.083421Z"
    },
    "papermill": {
     "duration": 0.033329,
     "end_time": "2022-02-01T10:55:29.398000",
     "exception": false,
     "start_time": "2022-02-01T10:55:29.364671",
     "status": "completed"
    },
    "tags": []
   },
   "outputs": [
    {
     "data": {
      "application/javascript": [
       "parent.postMessage({\"jupyterEvent\": \"custom.exercise_interaction\", \"data\": {\"outcomeType\": 1, \"valueTowardsCompletion\": 1.0, \"interactionType\": 1, \"questionType\": 1, \"questionId\": \"1.1_InvestigateEquality\", \"learnToolsVersion\": \"0.3.4\", \"failureMessage\": \"\", \"exceptionClass\": \"\", \"trace\": \"\"}}, \"*\")"
      ],
      "text/plain": [
       "<IPython.core.display.Javascript object>"
      ]
     },
     "metadata": {},
     "output_type": "display_data"
    },
    {
     "data": {
      "text/markdown": [
       "<span style=\"color:#33cc33\">Correct</span>"
      ],
      "text/plain": [
       "Correct"
      ]
     },
     "metadata": {},
     "output_type": "display_data"
    }
   ],
   "source": [
    "# Fill in the line below: How many rows are in the training data?\n",
    "num_rows = 1168\n",
    "\n",
    "# Fill in the line below: How many columns in the training data\n",
    "# have missing values?\n",
    "num_cols_with_missing = 3\n",
    "\n",
    "# Fill in the line below: How many missing entries are contained in \n",
    "# all of the training data?\n",
    "tot_missing = 212+6+58\n",
    "\n",
    "# Check your answers\n",
    "step_1.a.check()"
   ]
  },
  {
   "cell_type": "code",
   "execution_count": 6,
   "id": "e2052f54",
   "metadata": {
    "execution": {
     "iopub.execute_input": "2022-02-01T10:55:29.474216Z",
     "iopub.status.busy": "2022-02-01T10:55:29.473392Z",
     "iopub.status.idle": "2022-02-01T10:55:29.477251Z",
     "shell.execute_reply": "2022-02-01T10:55:29.475282Z",
     "shell.execute_reply.started": "2022-02-01T10:23:16.103785Z"
    },
    "papermill": {
     "duration": 0.054458,
     "end_time": "2022-02-01T10:55:29.477440",
     "exception": false,
     "start_time": "2022-02-01T10:55:29.422982",
     "status": "completed"
    },
    "tags": []
   },
   "outputs": [],
   "source": [
    "# Lines below will give you a hint or solution code\n",
    "#step_1.a.hint()\n",
    "#step_1.a.solution()"
   ]
  },
  {
   "cell_type": "markdown",
   "id": "e597a8a2",
   "metadata": {
    "papermill": {
     "duration": 0.046524,
     "end_time": "2022-02-01T10:55:29.568692",
     "exception": false,
     "start_time": "2022-02-01T10:55:29.522168",
     "status": "completed"
    },
    "tags": []
   },
   "source": [
    "### Part B\n",
    "Considering your answers above, what do you think is likely the best approach to dealing with the missing values?"
   ]
  },
  {
   "cell_type": "code",
   "execution_count": 7,
   "id": "ef389f76",
   "metadata": {
    "execution": {
     "iopub.execute_input": "2022-02-01T10:55:29.660243Z",
     "iopub.status.busy": "2022-02-01T10:55:29.659337Z",
     "iopub.status.idle": "2022-02-01T10:55:29.664195Z",
     "shell.execute_reply": "2022-02-01T10:55:29.661015Z",
     "shell.execute_reply.started": "2022-02-01T10:23:21.286440Z"
    },
    "papermill": {
     "duration": 0.058075,
     "end_time": "2022-02-01T10:55:29.664371",
     "exception": false,
     "start_time": "2022-02-01T10:55:29.606296",
     "status": "completed"
    },
    "tags": []
   },
   "outputs": [
    {
     "data": {
      "application/javascript": [
       "parent.postMessage({\"jupyterEvent\": \"custom.exercise_interaction\", \"data\": {\"outcomeType\": 1, \"valueTowardsCompletion\": 1.0, \"interactionType\": 1, \"questionType\": 4, \"questionId\": \"1.2_InvestigateThought\", \"learnToolsVersion\": \"0.3.4\", \"failureMessage\": \"\", \"exceptionClass\": \"\", \"trace\": \"\"}}, \"*\")"
      ],
      "text/plain": [
       "<IPython.core.display.Javascript object>"
      ]
     },
     "metadata": {},
     "output_type": "display_data"
    },
    {
     "data": {
      "text/markdown": [
       "<span style=\"color:#33cc33\">Correct:</span> \n",
       "\n",
       "Since there are relatively few missing entries in the data (the column with the greatest percentage of missing values is missing less than 20% of its entries), we can expect that dropping columns is unlikely to yield good results.  This is because we'd be throwing away a lot of valuable data, and so imputation will likely perform better."
      ],
      "text/plain": [
       "Correct: \n",
       "\n",
       "Since there are relatively few missing entries in the data (the column with the greatest percentage of missing values is missing less than 20% of its entries), we can expect that dropping columns is unlikely to yield good results.  This is because we'd be throwing away a lot of valuable data, and so imputation will likely perform better."
      ]
     },
     "metadata": {},
     "output_type": "display_data"
    }
   ],
   "source": [
    "# Check your answer (Run this code cell to receive credit!)\n",
    "step_1.b.check()"
   ]
  },
  {
   "cell_type": "code",
   "execution_count": 8,
   "id": "952d32fc",
   "metadata": {
    "execution": {
     "iopub.execute_input": "2022-02-01T10:55:29.757354Z",
     "iopub.status.busy": "2022-02-01T10:55:29.756466Z",
     "iopub.status.idle": "2022-02-01T10:55:29.758716Z",
     "shell.execute_reply": "2022-02-01T10:55:29.758061Z",
     "shell.execute_reply.started": "2022-02-01T10:23:27.124303Z"
    },
    "papermill": {
     "duration": 0.0508,
     "end_time": "2022-02-01T10:55:29.758871",
     "exception": false,
     "start_time": "2022-02-01T10:55:29.708071",
     "status": "completed"
    },
    "tags": []
   },
   "outputs": [],
   "source": [
    "#step_1.b.hint()"
   ]
  },
  {
   "cell_type": "markdown",
   "id": "a1fe8d4b",
   "metadata": {
    "papermill": {
     "duration": 0.041856,
     "end_time": "2022-02-01T10:55:29.842408",
     "exception": false,
     "start_time": "2022-02-01T10:55:29.800552",
     "status": "completed"
    },
    "tags": []
   },
   "source": [
    "To compare different approaches to dealing with missing values, you'll use the same `score_dataset()` function from the tutorial.  This function reports the [mean absolute error](https://en.wikipedia.org/wiki/Mean_absolute_error) (MAE) from a random forest model."
   ]
  },
  {
   "cell_type": "code",
   "execution_count": 9,
   "id": "65341793",
   "metadata": {
    "execution": {
     "iopub.execute_input": "2022-02-01T10:55:29.933979Z",
     "iopub.status.busy": "2022-02-01T10:55:29.932600Z",
     "iopub.status.idle": "2022-02-01T10:55:30.097423Z",
     "shell.execute_reply": "2022-02-01T10:55:30.097859Z",
     "shell.execute_reply.started": "2022-02-01T10:23:32.695504Z"
    },
    "papermill": {
     "duration": 0.213339,
     "end_time": "2022-02-01T10:55:30.098006",
     "exception": false,
     "start_time": "2022-02-01T10:55:29.884667",
     "status": "completed"
    },
    "tags": []
   },
   "outputs": [],
   "source": [
    "from sklearn.ensemble import RandomForestRegressor\n",
    "from sklearn.metrics import mean_absolute_error\n",
    "\n",
    "# Function for comparing different approaches\n",
    "def score_dataset(X_train, X_valid, y_train, y_valid):\n",
    "    model = RandomForestRegressor(n_estimators=100, random_state=0)\n",
    "    model.fit(X_train, y_train)\n",
    "    preds = model.predict(X_valid)\n",
    "    return mean_absolute_error(y_valid, preds)"
   ]
  },
  {
   "cell_type": "markdown",
   "id": "a4f9e585",
   "metadata": {
    "papermill": {
     "duration": 0.025764,
     "end_time": "2022-02-01T10:55:30.150179",
     "exception": false,
     "start_time": "2022-02-01T10:55:30.124415",
     "status": "completed"
    },
    "tags": []
   },
   "source": [
    "# Step 2: Drop columns with missing values\n",
    "\n",
    "In this step, you'll preprocess the data in `X_train` and `X_valid` to remove columns with missing values.  Set the preprocessed DataFrames to `reduced_X_train` and `reduced_X_valid`, respectively.  "
   ]
  },
  {
   "cell_type": "code",
   "execution_count": 10,
   "id": "8d4f4b86",
   "metadata": {
    "execution": {
     "iopub.execute_input": "2022-02-01T10:55:30.229875Z",
     "iopub.status.busy": "2022-02-01T10:55:30.229316Z",
     "iopub.status.idle": "2022-02-01T10:55:30.236304Z",
     "shell.execute_reply": "2022-02-01T10:55:30.235883Z",
     "shell.execute_reply.started": "2022-02-01T10:27:43.580116Z"
    },
    "papermill": {
     "duration": 0.060567,
     "end_time": "2022-02-01T10:55:30.236443",
     "exception": false,
     "start_time": "2022-02-01T10:55:30.175876",
     "status": "completed"
    },
    "tags": []
   },
   "outputs": [
    {
     "data": {
      "application/javascript": [
       "parent.postMessage({\"jupyterEvent\": \"custom.exercise_interaction\", \"data\": {\"outcomeType\": 1, \"valueTowardsCompletion\": 1.0, \"interactionType\": 1, \"questionType\": 2, \"questionId\": \"2_DropMissing\", \"learnToolsVersion\": \"0.3.4\", \"failureMessage\": \"\", \"exceptionClass\": \"\", \"trace\": \"\"}}, \"*\")"
      ],
      "text/plain": [
       "<IPython.core.display.Javascript object>"
      ]
     },
     "metadata": {},
     "output_type": "display_data"
    },
    {
     "data": {
      "text/markdown": [
       "<span style=\"color:#33cc33\">Correct</span>"
      ],
      "text/plain": [
       "Correct"
      ]
     },
     "metadata": {},
     "output_type": "display_data"
    }
   ],
   "source": [
    "# Fill in the line below: get names of columns with missing values\n",
    "cols_with_missing=[col for col in X_train.columns if X_train[col].isnull().any()]\n",
    "\n",
    "# Fill in the lines below: drop columns in training and validation data\n",
    "reduced_X_train = X_train.drop(cols_with_missing,axis=1)\n",
    "reduced_X_valid = X_valid.drop(cols_with_missing,axis=1)\n",
    "\n",
    "# Check your answers\n",
    "step_2.check()"
   ]
  },
  {
   "cell_type": "code",
   "execution_count": 11,
   "id": "30dd325d",
   "metadata": {
    "execution": {
     "iopub.execute_input": "2022-02-01T10:55:30.294500Z",
     "iopub.status.busy": "2022-02-01T10:55:30.293714Z",
     "iopub.status.idle": "2022-02-01T10:55:30.295722Z",
     "shell.execute_reply": "2022-02-01T10:55:30.296108Z",
     "shell.execute_reply.started": "2022-02-01T10:27:47.579023Z"
    },
    "papermill": {
     "duration": 0.032781,
     "end_time": "2022-02-01T10:55:30.296232",
     "exception": false,
     "start_time": "2022-02-01T10:55:30.263451",
     "status": "completed"
    },
    "tags": []
   },
   "outputs": [],
   "source": [
    "# Lines below will give you a hint or solution code\n",
    "#step_2.hint()\n",
    "#step_2.solution()"
   ]
  },
  {
   "cell_type": "markdown",
   "id": "94873454",
   "metadata": {
    "papermill": {
     "duration": 0.026526,
     "end_time": "2022-02-01T10:55:30.349049",
     "exception": false,
     "start_time": "2022-02-01T10:55:30.322523",
     "status": "completed"
    },
    "tags": []
   },
   "source": [
    "Run the next code cell without changes to obtain the MAE for this approach."
   ]
  },
  {
   "cell_type": "code",
   "execution_count": 12,
   "id": "c22bd71f",
   "metadata": {
    "execution": {
     "iopub.execute_input": "2022-02-01T10:55:30.428119Z",
     "iopub.status.busy": "2022-02-01T10:55:30.412612Z",
     "iopub.status.idle": "2022-02-01T10:55:31.406972Z",
     "shell.execute_reply": "2022-02-01T10:55:31.407666Z",
     "shell.execute_reply.started": "2022-02-01T10:27:53.020802Z"
    },
    "papermill": {
     "duration": 1.03242,
     "end_time": "2022-02-01T10:55:31.407815",
     "exception": false,
     "start_time": "2022-02-01T10:55:30.375395",
     "status": "completed"
    },
    "tags": []
   },
   "outputs": [
    {
     "name": "stdout",
     "output_type": "stream",
     "text": [
      "MAE (Drop columns with missing values):\n",
      "17837.82570776256\n"
     ]
    }
   ],
   "source": [
    "print(\"MAE (Drop columns with missing values):\")\n",
    "print(score_dataset(reduced_X_train, reduced_X_valid, y_train, y_valid))"
   ]
  },
  {
   "cell_type": "markdown",
   "id": "492179fa",
   "metadata": {
    "papermill": {
     "duration": 0.027742,
     "end_time": "2022-02-01T10:55:31.462928",
     "exception": false,
     "start_time": "2022-02-01T10:55:31.435186",
     "status": "completed"
    },
    "tags": []
   },
   "source": [
    "# Step 3: Imputation\n",
    "\n",
    "### Part A\n",
    "\n",
    "Use the next code cell to impute missing values with the mean value along each column.  Set the preprocessed DataFrames to `imputed_X_train` and `imputed_X_valid`.  Make sure that the column names match those in `X_train` and `X_valid`."
   ]
  },
  {
   "cell_type": "code",
   "execution_count": 13,
   "id": "c3468f49",
   "metadata": {
    "execution": {
     "iopub.execute_input": "2022-02-01T10:55:31.522510Z",
     "iopub.status.busy": "2022-02-01T10:55:31.521902Z",
     "iopub.status.idle": "2022-02-01T10:55:31.546812Z",
     "shell.execute_reply": "2022-02-01T10:55:31.547223Z",
     "shell.execute_reply.started": "2022-02-01T10:40:00.347393Z"
    },
    "papermill": {
     "duration": 0.05753,
     "end_time": "2022-02-01T10:55:31.547348",
     "exception": false,
     "start_time": "2022-02-01T10:55:31.489818",
     "status": "completed"
    },
    "tags": []
   },
   "outputs": [
    {
     "data": {
      "application/javascript": [
       "parent.postMessage({\"jupyterEvent\": \"custom.exercise_interaction\", \"data\": {\"outcomeType\": 1, \"valueTowardsCompletion\": 1.0, \"interactionType\": 1, \"questionType\": 2, \"questionId\": \"3.1_ImputeCode\", \"learnToolsVersion\": \"0.3.4\", \"failureMessage\": \"\", \"exceptionClass\": \"\", \"trace\": \"\"}}, \"*\")"
      ],
      "text/plain": [
       "<IPython.core.display.Javascript object>"
      ]
     },
     "metadata": {},
     "output_type": "display_data"
    },
    {
     "data": {
      "text/markdown": [
       "<span style=\"color:#33cc33\">Correct</span>"
      ],
      "text/plain": [
       "Correct"
      ]
     },
     "metadata": {},
     "output_type": "display_data"
    }
   ],
   "source": [
    "from sklearn.impute import SimpleImputer\n",
    "\n",
    "# Fill in the lines below: imputation\n",
    "my_imputer=SimpleImputer()\n",
    "imputed_X_train = pd.DataFrame(my_imputer.fit_transform(X_train))\n",
    "imputed_X_valid = pd.DataFrame(my_imputer.transform(X_valid))\n",
    "\n",
    "# Fill in the lines below: imputation removed column names; put them back\n",
    "imputed_X_train.columns = X_train.columns\n",
    "imputed_X_valid.columns = X_valid.columns\n",
    "\n",
    "# Check your answers\n",
    "step_3.a.check()"
   ]
  },
  {
   "cell_type": "code",
   "execution_count": 14,
   "id": "6a424f58",
   "metadata": {
    "execution": {
     "iopub.execute_input": "2022-02-01T10:55:31.606659Z",
     "iopub.status.busy": "2022-02-01T10:55:31.606019Z",
     "iopub.status.idle": "2022-02-01T10:55:31.608646Z",
     "shell.execute_reply": "2022-02-01T10:55:31.608192Z",
     "shell.execute_reply.started": "2022-02-01T10:40:06.624099Z"
    },
    "papermill": {
     "duration": 0.033321,
     "end_time": "2022-02-01T10:55:31.608751",
     "exception": false,
     "start_time": "2022-02-01T10:55:31.575430",
     "status": "completed"
    },
    "tags": []
   },
   "outputs": [],
   "source": [
    "# Lines below will give you a hint or solution code\n",
    "#step_3.a.hint()\n",
    "#step_3.a.solution()"
   ]
  },
  {
   "cell_type": "markdown",
   "id": "2c258d55",
   "metadata": {
    "papermill": {
     "duration": 0.027849,
     "end_time": "2022-02-01T10:55:31.664752",
     "exception": false,
     "start_time": "2022-02-01T10:55:31.636903",
     "status": "completed"
    },
    "tags": []
   },
   "source": [
    "Run the next code cell without changes to obtain the MAE for this approach."
   ]
  },
  {
   "cell_type": "code",
   "execution_count": 15,
   "id": "c017559f",
   "metadata": {
    "execution": {
     "iopub.execute_input": "2022-02-01T10:55:31.728024Z",
     "iopub.status.busy": "2022-02-01T10:55:31.727060Z",
     "iopub.status.idle": "2022-02-01T10:55:32.844495Z",
     "shell.execute_reply": "2022-02-01T10:55:32.844914Z",
     "shell.execute_reply.started": "2022-02-01T10:40:10.544669Z"
    },
    "papermill": {
     "duration": 1.152231,
     "end_time": "2022-02-01T10:55:32.845058",
     "exception": false,
     "start_time": "2022-02-01T10:55:31.692827",
     "status": "completed"
    },
    "tags": []
   },
   "outputs": [
    {
     "name": "stdout",
     "output_type": "stream",
     "text": [
      "MAE (Imputation):\n",
      "18062.894611872147\n"
     ]
    }
   ],
   "source": [
    "print(\"MAE (Imputation):\")\n",
    "print(score_dataset(imputed_X_train, imputed_X_valid, y_train, y_valid))"
   ]
  },
  {
   "cell_type": "markdown",
   "id": "05125a95",
   "metadata": {
    "papermill": {
     "duration": 0.029503,
     "end_time": "2022-02-01T10:55:32.905574",
     "exception": false,
     "start_time": "2022-02-01T10:55:32.876071",
     "status": "completed"
    },
    "tags": []
   },
   "source": [
    "### Part B\n",
    "\n",
    "Compare the MAE from each approach.  Does anything surprise you about the results?  Why do you think one approach performed better than the other?"
   ]
  },
  {
   "cell_type": "code",
   "execution_count": 16,
   "id": "0fff65a4",
   "metadata": {
    "execution": {
     "iopub.execute_input": "2022-02-01T10:55:32.971216Z",
     "iopub.status.busy": "2022-02-01T10:55:32.970262Z",
     "iopub.status.idle": "2022-02-01T10:55:32.975295Z",
     "shell.execute_reply": "2022-02-01T10:55:32.974888Z",
     "shell.execute_reply.started": "2022-02-01T10:40:16.119013Z"
    },
    "papermill": {
     "duration": 0.039809,
     "end_time": "2022-02-01T10:55:32.975427",
     "exception": false,
     "start_time": "2022-02-01T10:55:32.935618",
     "status": "completed"
    },
    "tags": []
   },
   "outputs": [
    {
     "data": {
      "application/javascript": [
       "parent.postMessage({\"jupyterEvent\": \"custom.exercise_interaction\", \"data\": {\"outcomeType\": 1, \"valueTowardsCompletion\": 1.0, \"interactionType\": 1, \"questionType\": 4, \"questionId\": \"3.2_ImputeThought\", \"learnToolsVersion\": \"0.3.4\", \"failureMessage\": \"\", \"exceptionClass\": \"\", \"trace\": \"\"}}, \"*\")"
      ],
      "text/plain": [
       "<IPython.core.display.Javascript object>"
      ]
     },
     "metadata": {},
     "output_type": "display_data"
    },
    {
     "data": {
      "text/markdown": [
       "<span style=\"color:#33cc33\">Correct:</span> \n",
       "\n",
       "Given that thre are so few missing values in the dataset, we'd expect imputation to perform better than dropping columns entirely.  However, we see that dropping columns performs slightly better!  While this can probably partially be attributed to noise in the dataset, another potential explanation is that the imputation method is not a great match to this dataset.  That is, maybe instead of filling in the mean value, it makes more sense to set every missing value to a value of 0, to fill in the most frequently encountered value, or to use some other method.  For instance, consider the `GarageYrBlt` column (which indicates the year that the garage was built).  It's likely that in some cases, a missing value could indicate a house that does not have a garage.  Does it make more sense to fill in the median value along each column in this case?  Or could we get better results by filling in the minimum value along each column?  It's not quite clear what's best in this case, but perhaps we can rule out some options immediately - for instance, setting missing values in this column to 0 is likely to yield horrible results!"
      ],
      "text/plain": [
       "Correct: \n",
       "\n",
       "Given that thre are so few missing values in the dataset, we'd expect imputation to perform better than dropping columns entirely.  However, we see that dropping columns performs slightly better!  While this can probably partially be attributed to noise in the dataset, another potential explanation is that the imputation method is not a great match to this dataset.  That is, maybe instead of filling in the mean value, it makes more sense to set every missing value to a value of 0, to fill in the most frequently encountered value, or to use some other method.  For instance, consider the `GarageYrBlt` column (which indicates the year that the garage was built).  It's likely that in some cases, a missing value could indicate a house that does not have a garage.  Does it make more sense to fill in the median value along each column in this case?  Or could we get better results by filling in the minimum value along each column?  It's not quite clear what's best in this case, but perhaps we can rule out some options immediately - for instance, setting missing values in this column to 0 is likely to yield horrible results!"
      ]
     },
     "metadata": {},
     "output_type": "display_data"
    }
   ],
   "source": [
    "# Check your answer (Run this code cell to receive credit!)\n",
    "step_3.b.check()"
   ]
  },
  {
   "cell_type": "code",
   "execution_count": 17,
   "id": "fe109e42",
   "metadata": {
    "execution": {
     "iopub.execute_input": "2022-02-01T10:55:33.039984Z",
     "iopub.status.busy": "2022-02-01T10:55:33.039140Z",
     "iopub.status.idle": "2022-02-01T10:55:33.041225Z",
     "shell.execute_reply": "2022-02-01T10:55:33.041741Z",
     "shell.execute_reply.started": "2022-02-01T10:40:20.499125Z"
    },
    "papermill": {
     "duration": 0.036517,
     "end_time": "2022-02-01T10:55:33.041857",
     "exception": false,
     "start_time": "2022-02-01T10:55:33.005340",
     "status": "completed"
    },
    "tags": []
   },
   "outputs": [],
   "source": [
    "#step_3.b.hint()"
   ]
  },
  {
   "cell_type": "markdown",
   "id": "032fb980",
   "metadata": {
    "papermill": {
     "duration": 0.029537,
     "end_time": "2022-02-01T10:55:33.100982",
     "exception": false,
     "start_time": "2022-02-01T10:55:33.071445",
     "status": "completed"
    },
    "tags": []
   },
   "source": [
    "# Step 4: Generate test predictions\n",
    "\n",
    "In this final step, you'll use any approach of your choosing to deal with missing values.  Once you've preprocessed the training and validation features, you'll train and evaluate a random forest model.  Then, you'll preprocess the test data before generating predictions that can be submitted to the competition!\n",
    "\n",
    "### Part A\n",
    "\n",
    "Use the next code cell to preprocess the training and validation data.  Set the preprocessed DataFrames to `final_X_train` and `final_X_valid`.  **You can use any approach of your choosing here!**  in order for this step to be marked as correct, you need only ensure:\n",
    "- the preprocessed DataFrames have the same number of columns,\n",
    "- the preprocessed DataFrames have no missing values, \n",
    "- `final_X_train` and `y_train` have the same number of rows, and\n",
    "- `final_X_valid` and `y_valid` have the same number of rows."
   ]
  },
  {
   "cell_type": "code",
   "execution_count": 18,
   "id": "8be24673",
   "metadata": {
    "execution": {
     "iopub.execute_input": "2022-02-01T10:55:33.166524Z",
     "iopub.status.busy": "2022-02-01T10:55:33.165679Z",
     "iopub.status.idle": "2022-02-01T10:55:33.187086Z",
     "shell.execute_reply": "2022-02-01T10:55:33.186664Z",
     "shell.execute_reply.started": "2022-02-01T10:49:05.010066Z"
    },
    "papermill": {
     "duration": 0.056953,
     "end_time": "2022-02-01T10:55:33.187183",
     "exception": false,
     "start_time": "2022-02-01T10:55:33.130230",
     "status": "completed"
    },
    "tags": []
   },
   "outputs": [
    {
     "data": {
      "application/javascript": [
       "parent.postMessage({\"jupyterEvent\": \"custom.exercise_interaction\", \"data\": {\"outcomeType\": 1, \"valueTowardsCompletion\": 1.0, \"interactionType\": 1, \"questionType\": 2, \"questionId\": \"4.1_PredsCodeA\", \"learnToolsVersion\": \"0.3.4\", \"failureMessage\": \"\", \"exceptionClass\": \"\", \"trace\": \"\"}}, \"*\")"
      ],
      "text/plain": [
       "<IPython.core.display.Javascript object>"
      ]
     },
     "metadata": {},
     "output_type": "display_data"
    },
    {
     "data": {
      "text/markdown": [
       "<span style=\"color:#33cc33\">Correct</span>"
      ],
      "text/plain": [
       "Correct"
      ]
     },
     "metadata": {},
     "output_type": "display_data"
    }
   ],
   "source": [
    "#Imputation\n",
    "final_imputer=SimpleImputer(strategy='median')\n",
    "# Preprocessed training and validation features\n",
    "final_X_train = pd.DataFrame(final_imputer.fit_transform(X_train))\n",
    "final_X_valid = pd.DataFrame(final_imputer.transform(X_valid))\n",
    "\n",
    "# Check your answers\n",
    "step_4.a.check()"
   ]
  },
  {
   "cell_type": "code",
   "execution_count": 19,
   "id": "790b973c",
   "metadata": {
    "execution": {
     "iopub.execute_input": "2022-02-01T10:55:33.251686Z",
     "iopub.status.busy": "2022-02-01T10:55:33.250945Z",
     "iopub.status.idle": "2022-02-01T10:55:33.253284Z",
     "shell.execute_reply": "2022-02-01T10:55:33.252901Z",
     "shell.execute_reply.started": "2022-02-01T10:49:09.628221Z"
    },
    "papermill": {
     "duration": 0.035646,
     "end_time": "2022-02-01T10:55:33.253419",
     "exception": false,
     "start_time": "2022-02-01T10:55:33.217773",
     "status": "completed"
    },
    "tags": []
   },
   "outputs": [],
   "source": [
    "# Lines below will give you a hint or solution code\n",
    "#step_4.a.hint()\n",
    "#step_4.a.solution()"
   ]
  },
  {
   "cell_type": "markdown",
   "id": "383fb692",
   "metadata": {
    "papermill": {
     "duration": 0.03017,
     "end_time": "2022-02-01T10:55:33.314108",
     "exception": false,
     "start_time": "2022-02-01T10:55:33.283938",
     "status": "completed"
    },
    "tags": []
   },
   "source": [
    "Run the next code cell to train and evaluate a random forest model.  (*Note that we don't use the `score_dataset()` function above, because we will soon use the trained model to generate test predictions!*)"
   ]
  },
  {
   "cell_type": "code",
   "execution_count": 20,
   "id": "5f46b3ae",
   "metadata": {
    "execution": {
     "iopub.execute_input": "2022-02-01T10:55:33.380710Z",
     "iopub.status.busy": "2022-02-01T10:55:33.379944Z",
     "iopub.status.idle": "2022-02-01T10:55:34.497319Z",
     "shell.execute_reply": "2022-02-01T10:55:34.497888Z",
     "shell.execute_reply.started": "2022-02-01T10:49:12.781027Z"
    },
    "papermill": {
     "duration": 1.153577,
     "end_time": "2022-02-01T10:55:34.498080",
     "exception": false,
     "start_time": "2022-02-01T10:55:33.344503",
     "status": "completed"
    },
    "tags": []
   },
   "outputs": [
    {
     "name": "stdout",
     "output_type": "stream",
     "text": [
      "MAE (Your approach):\n",
      "17791.59899543379\n"
     ]
    }
   ],
   "source": [
    "# Define and fit model\n",
    "model = RandomForestRegressor(n_estimators=100, random_state=0)\n",
    "model.fit(final_X_train, y_train)\n",
    "\n",
    "# Get validation predictions and MAE\n",
    "preds_valid = model.predict(final_X_valid)\n",
    "print(\"MAE (Your approach):\")\n",
    "print(mean_absolute_error(y_valid, preds_valid))"
   ]
  },
  {
   "cell_type": "markdown",
   "id": "84189ba0",
   "metadata": {
    "papermill": {
     "duration": 0.031119,
     "end_time": "2022-02-01T10:55:34.561116",
     "exception": false,
     "start_time": "2022-02-01T10:55:34.529997",
     "status": "completed"
    },
    "tags": []
   },
   "source": [
    "### Part B\n",
    "\n",
    "Use the next code cell to preprocess your test data.  Make sure that you use a method that agrees with how you preprocessed the training and validation data, and set the preprocessed test features to `final_X_test`.\n",
    "\n",
    "Then, use the preprocessed test features and the trained model to generate test predictions in `preds_test`.\n",
    "\n",
    "In order for this step to be marked correct, you need only ensure:\n",
    "- the preprocessed test DataFrame has no missing values, and\n",
    "- `final_X_test` has the same number of rows as `X_test`."
   ]
  },
  {
   "cell_type": "code",
   "execution_count": 21,
   "id": "bc131705",
   "metadata": {
    "execution": {
     "iopub.execute_input": "2022-02-01T10:55:34.629023Z",
     "iopub.status.busy": "2022-02-01T10:55:34.628231Z",
     "iopub.status.idle": "2022-02-01T10:55:34.666451Z",
     "shell.execute_reply": "2022-02-01T10:55:34.666859Z",
     "shell.execute_reply.started": "2022-02-01T10:53:06.242025Z"
    },
    "papermill": {
     "duration": 0.07528,
     "end_time": "2022-02-01T10:55:34.667002",
     "exception": false,
     "start_time": "2022-02-01T10:55:34.591722",
     "status": "completed"
    },
    "tags": []
   },
   "outputs": [
    {
     "data": {
      "application/javascript": [
       "parent.postMessage({\"jupyterEvent\": \"custom.exercise_interaction\", \"data\": {\"outcomeType\": 1, \"valueTowardsCompletion\": 1.0, \"interactionType\": 1, \"questionType\": 2, \"questionId\": \"4.2_PredsCodeB\", \"learnToolsVersion\": \"0.3.4\", \"failureMessage\": \"\", \"exceptionClass\": \"\", \"trace\": \"\"}}, \"*\")"
      ],
      "text/plain": [
       "<IPython.core.display.Javascript object>"
      ]
     },
     "metadata": {},
     "output_type": "display_data"
    },
    {
     "data": {
      "text/markdown": [
       "<span style=\"color:#33cc33\">Correct</span>"
      ],
      "text/plain": [
       "Correct"
      ]
     },
     "metadata": {},
     "output_type": "display_data"
    }
   ],
   "source": [
    "# Fill in the line below: preprocess test data\n",
    "final_X_test = pd.DataFrame(final_imputer.transform(X_test))\n",
    "\n",
    "# Fill in the line below: get test predictions\n",
    "preds_test = model.predict(final_X_test)\n",
    "\n",
    "# Check your answers\n",
    "step_4.b.check()"
   ]
  },
  {
   "cell_type": "code",
   "execution_count": 22,
   "id": "bd44f34d",
   "metadata": {
    "execution": {
     "iopub.execute_input": "2022-02-01T10:55:34.734022Z",
     "iopub.status.busy": "2022-02-01T10:55:34.733242Z",
     "iopub.status.idle": "2022-02-01T10:55:34.736732Z",
     "shell.execute_reply": "2022-02-01T10:55:34.736231Z",
     "shell.execute_reply.started": "2022-02-01T10:53:12.131350Z"
    },
    "papermill": {
     "duration": 0.037389,
     "end_time": "2022-02-01T10:55:34.736853",
     "exception": false,
     "start_time": "2022-02-01T10:55:34.699464",
     "status": "completed"
    },
    "tags": []
   },
   "outputs": [],
   "source": [
    "# Lines below will give you a hint or solution code\n",
    "#step_4.b.hint()\n",
    "#step_4.b.solution()"
   ]
  },
  {
   "cell_type": "markdown",
   "id": "606f10e4",
   "metadata": {
    "papermill": {
     "duration": 0.031352,
     "end_time": "2022-02-01T10:55:34.799665",
     "exception": false,
     "start_time": "2022-02-01T10:55:34.768313",
     "status": "completed"
    },
    "tags": []
   },
   "source": [
    "Run the next code cell without changes to save your results to a CSV file that can be submitted directly to the competition."
   ]
  },
  {
   "cell_type": "code",
   "execution_count": 23,
   "id": "e4d7a37c",
   "metadata": {
    "execution": {
     "iopub.execute_input": "2022-02-01T10:55:34.868919Z",
     "iopub.status.busy": "2022-02-01T10:55:34.868172Z",
     "iopub.status.idle": "2022-02-01T10:55:34.876270Z",
     "shell.execute_reply": "2022-02-01T10:55:34.875625Z",
     "shell.execute_reply.started": "2022-02-01T10:53:22.989417Z"
    },
    "papermill": {
     "duration": 0.044716,
     "end_time": "2022-02-01T10:55:34.876475",
     "exception": false,
     "start_time": "2022-02-01T10:55:34.831759",
     "status": "completed"
    },
    "tags": []
   },
   "outputs": [],
   "source": [
    "# Save test predictions to file\n",
    "output = pd.DataFrame({'Id': X_test.index,\n",
    "                       'SalePrice': preds_test})\n",
    "output.to_csv('submission.csv', index=False)"
   ]
  },
  {
   "cell_type": "markdown",
   "id": "5e27eb10",
   "metadata": {
    "papermill": {
     "duration": 0.031524,
     "end_time": "2022-02-01T10:55:34.940299",
     "exception": false,
     "start_time": "2022-02-01T10:55:34.908775",
     "status": "completed"
    },
    "tags": []
   },
   "source": [
    "# Submit your results\n",
    "\n",
    "Once you have successfully completed Step 4, you're ready to submit your results to the leaderboard!  (_You also learned how to do this in the previous exercise.  If you need a reminder of how to do this, please use the instructions below._)  \n",
    "\n",
    "First, you'll need to join the competition if you haven't already.  So open a new window by clicking on [this link](https://www.kaggle.com/c/home-data-for-ml-course).  Then click on the **Join Competition** button.\n",
    "\n",
    "![join competition image](https://i.imgur.com/wLmFtH3.png)\n",
    "\n",
    "Next, follow the instructions below:\n",
    "1. Begin by clicking on the **Save Version** button in the top right corner of the window.  This will generate a pop-up window.  \n",
    "2. Ensure that the **Save and Run All** option is selected, and then click on the **Save** button.\n",
    "3. This generates a window in the bottom left corner of the notebook.  After it has finished running, click on the number to the right of the **Save Version** button.  This pulls up a list of versions on the right of the screen.  Click on the ellipsis **(...)** to the right of the most recent version, and select **Open in Viewer**.  This brings you into view mode of the same page. You will need to scroll down to get back to these instructions.\n",
    "4. Click on the **Output** tab on the right of the screen.  Then, click on the file you would like to submit, and click on the **Submit** button to submit your results to the leaderboard.\n",
    "\n",
    "You have now successfully submitted to the competition!\n",
    "\n",
    "If you want to keep working to improve your performance, select the **Edit** button in the top right of the screen. Then you can change your code and repeat the process. There's a lot of room to improve, and you will climb up the leaderboard as you work.\n",
    "\n",
    "\n",
    "# Keep going\n",
    "\n",
    "Move on to learn what **[categorical variables](https://www.kaggle.com/alexisbcook/categorical-variables)** are, along with how to incorporate them into your machine learning models.  Categorical variables are very common in real-world data, but you'll get an error if you try to plug them into your models without processing them first!"
   ]
  },
  {
   "cell_type": "markdown",
   "id": "7c593631",
   "metadata": {
    "papermill": {
     "duration": 0.033157,
     "end_time": "2022-02-01T10:55:35.004806",
     "exception": false,
     "start_time": "2022-02-01T10:55:34.971649",
     "status": "completed"
    },
    "tags": []
   },
   "source": [
    "---\n",
    "\n",
    "\n",
    "\n",
    "\n",
    "*Have questions or comments? Visit the [course discussion forum](https://www.kaggle.com/learn/intermediate-machine-learning/discussion) to chat with other learners.*"
   ]
  }
 ],
 "metadata": {
  "kernelspec": {
   "display_name": "Python 3",
   "language": "python",
   "name": "python3"
  },
  "language_info": {
   "codemirror_mode": {
    "name": "ipython",
    "version": 3
   },
   "file_extension": ".py",
   "mimetype": "text/x-python",
   "name": "python",
   "nbconvert_exporter": "python",
   "pygments_lexer": "ipython3",
   "version": "3.7.12"
  },
  "papermill": {
   "default_parameters": {},
   "duration": 16.001052,
   "end_time": "2022-02-01T10:55:35.544337",
   "environment_variables": {},
   "exception": null,
   "input_path": "__notebook__.ipynb",
   "output_path": "__notebook__.ipynb",
   "parameters": {},
   "start_time": "2022-02-01T10:55:19.543285",
   "version": "2.3.3"
  }
 },
 "nbformat": 4,
 "nbformat_minor": 5
}
